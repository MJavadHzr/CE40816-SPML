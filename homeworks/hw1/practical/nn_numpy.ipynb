{
 "cells": [
  {
   "attachments": {},
   "cell_type": "markdown",
   "metadata": {
    "id": "ooJtNr5dGrH9"
   },
   "source": [
    "**Name:** Javad Hezareh\n",
    "\n",
    "**Student Number:** 98101074\n",
    "\n",
    "\n"
   ]
  },
  {
   "cell_type": "markdown",
   "metadata": {
    "id": "ZJm9Z1k0cdmh"
   },
   "source": [
    "# Neural-Network with Numpy"
   ]
  },
  {
   "cell_type": "markdown",
   "metadata": {
    "id": "LDN075MYGesD"
   },
   "source": [
    "In this notebook, you are going to write and implement all the components required to create and train a two-layered neural network using NumPy."
   ]
  },
  {
   "cell_type": "markdown",
   "metadata": {
    "id": "wt3FdxgNcdmm"
   },
   "source": [
    "## Imports & Seeding:"
   ]
  },
  {
   "cell_type": "markdown",
   "metadata": {
    "id": "oPZ4zlnxqhl5"
   },
   "source": [
    "Importing some common libraries"
   ]
  },
  {
   "cell_type": "code",
   "execution_count": 1,
   "metadata": {
    "id": "Et7OS7TGcdmn"
   },
   "outputs": [],
   "source": [
    "import numpy as np\n",
    "import pandas as pd\n",
    "import matplotlib.pyplot as plt\n",
    "np.random.seed(123)\n",
    "%matplotlib inline"
   ]
  },
  {
   "cell_type": "markdown",
   "metadata": {
    "id": "Fa2v2-xbcdmo"
   },
   "source": [
    "## Preparing the data"
   ]
  },
  {
   "cell_type": "markdown",
   "metadata": {
    "id": "bKWqV2Gycdmp"
   },
   "source": [
    "You'll train and evaluate your model on [Fashion MNIST](https://en.wikipedia.org/wiki/Fashion_MNIST) dataset. In this section, you'll download Fashion MNIST and split it into training and testing datasets."
   ]
  },
  {
   "cell_type": "code",
   "execution_count": 2,
   "metadata": {
    "id": "tMYZtSoLc7c-"
   },
   "outputs": [
    {
     "name": "stdout",
     "output_type": "stream",
     "text": [
      "(70000, 784) (70000,)\n"
     ]
    }
   ],
   "source": [
    "from sklearn.datasets import fetch_openml\n",
    "\n",
    "# Using `fetch_openml`, download `Fashion-MNIST` \n",
    "# and save the training data and labels in `X` and `y` respectively.\n",
    "#############################\n",
    "# Your code goes here (5 points)\n",
    "X, y = fetch_openml('Fashion-MNIST', version=1, return_X_y=True, cache=True)\n",
    "#############################\n",
    "\n",
    "# Normalization:\n",
    "X = ((X / 255.) - .5) * 2\n",
    "\n",
    "print(X.shape, y.shape)"
   ]
  },
  {
   "cell_type": "code",
   "execution_count": 3,
   "metadata": {
    "id": "sDmxyMJ4dBk3"
   },
   "outputs": [
    {
     "name": "stdout",
     "output_type": "stream",
     "text": [
      "(60000, 784) (60000,) (10000, 784) (10000,)\n"
     ]
    }
   ],
   "source": [
    "from sklearn.model_selection import train_test_split\n",
    "\n",
    "# Using `train_test_split`, split your data into two sets. \n",
    "# Set the test_size to 10000\n",
    "\n",
    "#############################\n",
    "# Your code goes here (6 points)\n",
    "y = y.astype(np.int32)#.to_numpy()\n",
    "X = X.to_numpy()\n",
    "x_train, x_test, y_train, y_test = train_test_split(X, y, test_size=10000)\n",
    "#############################\n",
    "\n",
    "print(x_train.shape, y_train.shape, x_test.shape, y_test.shape)"
   ]
  },
  {
   "cell_type": "markdown",
   "metadata": {
    "id": "PiGTXGXKcdmt"
   },
   "source": [
    "## Prepare training & validation sets"
   ]
  },
  {
   "cell_type": "markdown",
   "metadata": {
    "id": "ba3nNYlDcdmt"
   },
   "source": [
    "We'll use only 3 classes from Fashion MNIST: Trouser, T-shirt, and Sneaker classes.\n",
    "\n",
    "The class labels for T-shirt, Trouser, and Sneaker are 0, 1, and 7 respectively.\n",
    "\n",
    "In this part, you'll limit the testing and training sets to only these three classes."
   ]
  },
  {
   "cell_type": "code",
   "execution_count": 4,
   "metadata": {
    "id": "TcBDZEtzcdmu"
   },
   "outputs": [
    {
     "name": "stdout",
     "output_type": "stream",
     "text": [
      "(18017, 784) (18017,)\n"
     ]
    }
   ],
   "source": [
    "# Modify `y_train` and `x_train`.\n",
    "# Only keep the 3 classes mentioned above. \n",
    "#############################\n",
    "# Your code goes here (4 points)\n",
    "x_train = x_train[np.isin(y_train, [0, 1, 7])]\n",
    "y_train = y_train[np.isin(y_train, [0, 1, 7])]\n",
    "#############################\n",
    "\n",
    "print(x_train.shape, y_train.shape)"
   ]
  },
  {
   "cell_type": "code",
   "execution_count": 5,
   "metadata": {
    "id": "LX2hkRe1cdmw"
   },
   "outputs": [
    {
     "name": "stdout",
     "output_type": "stream",
     "text": [
      "(2983, 784) (2983,)\n"
     ]
    }
   ],
   "source": [
    "# Modify `y_test` and `x_test`.\n",
    "# Only keep the 3 classes mentioned above. \n",
    "#############################\n",
    "# Your code goes here (4 points)\n",
    "x_test = x_test[np.isin(y_test, [0, 1, 7])]\n",
    "y_test = y_test[np.isin(y_test, [0, 1, 7])]\n",
    "#############################\n",
    "\n",
    "print(x_test.shape, y_test.shape)"
   ]
  },
  {
   "cell_type": "markdown",
   "metadata": {
    "id": "Gv6SMLUktWbv"
   },
   "source": [
    "## Linear & Activation Functions"
   ]
  },
  {
   "cell_type": "markdown",
   "metadata": {
    "id": "IXlyJo5JteKC"
   },
   "source": [
    "In this part, you'll implement the forward and backward process for the following components:\n",
    "- Softmax Layer\n",
    "- Linear Layer\n",
    "- ReLU Layer\n",
    "- Sigmoid Layer"
   ]
  },
  {
   "cell_type": "markdown",
   "metadata": {
    "id": "BXtAD5uYA4sQ"
   },
   "source": [
    "### The `Softmax` Layer"
   ]
  },
  {
   "cell_type": "code",
   "execution_count": 6,
   "metadata": {
    "id": "tzaIVo-_Axp7"
   },
   "outputs": [],
   "source": [
    "class SoftMaxLayer(object):\n",
    "    def __init__(self):\n",
    "        self.inp = None\n",
    "        self.output = None\n",
    "\n",
    "    def forward(self, inp):\n",
    "        # Write the forward pass for softmax.\n",
    "        # Save the values required for the backward pass.\n",
    "        #############################\n",
    "        # Your code goes here (4 points)\n",
    "        exps = np.exp(inp)\n",
    "        self.output = exps / exps.sum(axis=1)[:, None]\n",
    "        #############################\n",
    "        return self.output\n",
    "\n",
    "    def backward(self, up_grad):\n",
    "        # Write the backward pass for softmax.\n",
    "        #############################\n",
    "        # Your code goes here (4 points)\n",
    "        grad = (self.output * up_grad) - (self.output * (up_grad * self.output).sum(axis=1)[:, None])\n",
    "        #############################\n",
    "        return grad\n",
    "\n",
    "    def step(self, optimizer):\n",
    "        pass"
   ]
  },
  {
   "cell_type": "markdown",
   "metadata": {
    "id": "AcFoIDZjcdnB"
   },
   "source": [
    "### The `Linear` Layer "
   ]
  },
  {
   "cell_type": "code",
   "execution_count": 7,
   "metadata": {
    "id": "1strsTh6cdnG"
   },
   "outputs": [],
   "source": [
    "class Linear:\n",
    "    def __init__(self, in_dim, out_dim):\n",
    "        # Initialize the layer's weights and biases\n",
    "        #############################\n",
    "        # Your code goes here (2 points)\n",
    "        self.w = np.random.normal(size=(in_dim, out_dim), scale=np.sqrt(2/in_dim))\n",
    "        self.b = np.zeros(out_dim)\n",
    "        #############################\n",
    "        self.dw = None\n",
    "        self.db = None\n",
    "        \n",
    "    def forward(self, inp):\n",
    "        # Compute linear layer's output.\n",
    "        # Save the value(s) required for the backward phase.\n",
    "        #############################\n",
    "        # Your code goes here (4 points)\n",
    "        self.inp = inp\n",
    "        z = inp @ self.w + self.b[None, :]\n",
    "        #############################\n",
    "        return z\n",
    "    \n",
    "    def backward(self, up_grad):\n",
    "        # Calculate the gradient with respect to the weights \n",
    "        # and biases and save the results.\n",
    "        #############################\n",
    "        # Your code goes here (6 points)\n",
    "        self.db = up_grad.sum(axis=0)\n",
    "        self.dw = self.inp.T @ up_grad\n",
    "        self.dx = up_grad @ self.w.T\n",
    "        down_grad = self.dx\n",
    "        #############################\n",
    "        return down_grad\n",
    "\n",
    "    def step(self, optimizer):\n",
    "        # Update the layer's weights and biases\n",
    "        # Update previous_w_update and previous_b_update accordingly\n",
    "        #############################\n",
    "        # Your code goes here (5 points)\n",
    "        self.w = optimizer.get_next_update(self.w, self.dw)\n",
    "        self.b = optimizer.get_next_update(self.b, self.db)\n",
    "        #############################"
   ]
  },
  {
   "cell_type": "markdown",
   "metadata": {
    "id": "M0Lfo-nhcdnG"
   },
   "source": [
    "### The `ReLU` Layer"
   ]
  },
  {
   "cell_type": "code",
   "execution_count": 8,
   "metadata": {
    "id": "tN6vcirMcdnH"
   },
   "outputs": [],
   "source": [
    "class RelU:\n",
    "    def __init__(self):\n",
    "        self.inp = None\n",
    "\n",
    "    def forward(self, inp):\n",
    "        # Write the forward pass for ReLU.\n",
    "        # Save the value(s) required for the backward pass.\n",
    "        #############################\n",
    "        # Your code goes here (4 points)\n",
    "        self.inp = inp\n",
    "        output = inp * (inp > 0)\n",
    "        #############################\n",
    "        return output\n",
    "    \n",
    "    def backward(self, up_grad):\n",
    "        #############################\n",
    "        # Your code goes here (4 points)\n",
    "        down_grad = up_grad * (self.inp > 0)\n",
    "        #############################\n",
    "        return down_grad\n",
    "\n",
    "    def step(self, optimizer):\n",
    "        pass"
   ]
  },
  {
   "cell_type": "markdown",
   "metadata": {
    "id": "Z00KoSI3cdnJ"
   },
   "source": [
    "### The `sigmoid` Layer"
   ]
  },
  {
   "cell_type": "code",
   "execution_count": 9,
   "metadata": {
    "id": "TTYYeL2lcdnJ"
   },
   "outputs": [],
   "source": [
    "class Sigmoid:\n",
    "    def __init__(self):\n",
    "        self.inp = None\n",
    "        self.output = None\n",
    "        \n",
    "    def forward(self, inp):\n",
    "        #############################\n",
    "        # Your code goes here (4 points)\n",
    "        self.inp = inp\n",
    "\n",
    "        y = np.where(inp >= 0, 1 / (1 + np.exp(-inp)), np.exp(inp) / (1 + np.exp(inp)))\n",
    "        self.output = y\n",
    "        #############################\n",
    "        return self.output\n",
    "    \n",
    "    def backward(self, up_grad):\n",
    "        #############################\n",
    "        # Your code goes here (4 points)\n",
    "        sigmoid = self.output\n",
    "        down_grad = sigmoid * (1 - sigmoid) * up_grad\n",
    "        #############################\n",
    "        return down_grad\n",
    "    \n",
    "    def step(self, optimizer):\n",
    "        pass"
   ]
  },
  {
   "cell_type": "markdown",
   "metadata": {
    "id": "zngleGY2cdnK"
   },
   "source": [
    "## `Loss` function :"
   ]
  },
  {
   "cell_type": "markdown",
   "metadata": {
    "id": "ISedT4FvcdnK"
   },
   "source": [
    "For this task we are going to use the [Cross-Entropy Loss](https://en.wikipedia.org/wiki/Cross_entropy)."
   ]
  },
  {
   "cell_type": "code",
   "execution_count": 10,
   "metadata": {
    "id": "XQyz4ybycdnL"
   },
   "outputs": [],
   "source": [
    "class CELoss():\n",
    "    def __init__(self):\n",
    "        pass\n",
    "\n",
    "    def forward(self, pred, target):\n",
    "\n",
    "        self.yhat = pred\n",
    "        self.y = target\n",
    "        m = self.y.shape[0]\n",
    "        # Commpute and return the loss\n",
    "        #############################\n",
    "        # Your code goes here (8 points)\n",
    "        loss = - np.log(np.where(target != 0, pred, 1)).sum()\n",
    "        return loss / m\n",
    "        #############################\n",
    "\n",
    "    def backward(self):\n",
    "        # Derivative of loss_fn with respect to a the predicted label.\n",
    "        # Use `self.y` and `self.yhat` to compute and return `grad`.\n",
    "        #############################\n",
    "        # Your code goes here (6 points)\n",
    "        grad = - (1 / self.yhat) * self.y / self.y.shape[0]\n",
    "        #############################\n",
    "        return grad"
   ]
  },
  {
   "cell_type": "markdown",
   "metadata": {
    "id": "xovZI-70kB9I"
   },
   "source": [
    "## Optimizer\n",
    "\n",
    "In this section, you'll implement an optimizer classes\n"
   ]
  },
  {
   "cell_type": "code",
   "execution_count": 11,
   "metadata": {
    "id": "h5ADTi5tkVTS"
   },
   "outputs": [],
   "source": [
    "class GradientDescent(object):\n",
    "    def __init__(self, lr):\n",
    "        self.lr = lr\n",
    "\n",
    "    def get_next_update(self, x, dx):\n",
    "        # Compute the new value for 'x' and return the result\n",
    "        #############################\n",
    "        # Your code goes here (2 points)\n",
    "        new_x = x - self.lr * dx\n",
    "        #############################\n",
    "        return new_x"
   ]
  },
  {
   "cell_type": "markdown",
   "metadata": {
    "id": "LxxrEEovYEFi"
   },
   "source": [
    "## The Model\n",
    "Now you'll write the base class for a multi-layer perceptron network."
   ]
  },
  {
   "cell_type": "code",
   "execution_count": 12,
   "metadata": {
    "id": "t8SoZeYRcdnY"
   },
   "outputs": [],
   "source": [
    "class MLP:\n",
    "    def __init__(self, layers, loss_fn, optimizer):\n",
    "        self.layers = layers \n",
    "        self.losses  = [] \n",
    "        self.loss_fn = loss_fn\n",
    "        self.optimizer = optimizer\n",
    "\n",
    "    def forward(self, inp):\n",
    "        # Pass `inp` to all the layers sequentially\n",
    "        # and return the result.\n",
    "        #############################\n",
    "        # Your code goes here (4 points)\n",
    "        out = inp\n",
    "        for layer in self.layers:\n",
    "            out = layer.forward(out)\n",
    "        #############################\n",
    "        return out\n",
    "        \n",
    "    def loss(self, pred, label):\n",
    "        assert pred.shape == label.shape\n",
    "        \n",
    "        loss = self.loss_fn.forward(pred, label)\n",
    "        self.losses.append(loss)\n",
    "        return loss\n",
    "\n",
    "    def backward(self):\n",
    "        # Start with loss function's gradient and \n",
    "        # do the backward pass on all the layers.\n",
    "        #############################\n",
    "        # Your code goes here (5 points)\n",
    "        up_grad = self.loss_fn.backward()\n",
    "        for layer in self.layers[::-1]:\n",
    "            up_grad = layer.backward(up_grad)\n",
    "        #############################\n",
    "        \n",
    "    def update(self):\n",
    "        for layer in self.layers:\n",
    "          layer.step(self.optimizer)"
   ]
  },
  {
   "cell_type": "markdown",
   "metadata": {
    "id": "zo0rNwYciueF"
   },
   "source": [
    "The following cell encodes training labels into a one-hot representation with 3 classes."
   ]
  },
  {
   "cell_type": "code",
   "execution_count": 13,
   "metadata": {
    "id": "nhJTulaFJ4vR"
   },
   "outputs": [],
   "source": [
    "def onehot_enc(y, num_labels):\n",
    "    # ary = np.zeros((y.shape[0], num_labels))\n",
    "    # for i, val in enumerate(y):\n",
    "    #     ary[i, val] = 1\n",
    "    # return ary\n",
    "    ones = np.eye(8)\n",
    "    return ones[y][:, [0, 1, 7]]\n",
    "\n",
    "y_train_one = onehot_enc(y_train, 3)"
   ]
  },
  {
   "cell_type": "code",
   "execution_count": 14,
   "metadata": {
    "id": "TS6S_RUwsRkF"
   },
   "outputs": [],
   "source": [
    "def train(model, epochs, x, y):\n",
    "    for n in range(epochs):\n",
    "      # First do the forward pass. Next, compute the loss.\n",
    "      # Then do the backward pass and finally, update the parameters.\n",
    "      #############################\n",
    "      # Your code goes here (4 points)\n",
    "      probs = model.forward(x)\n",
    "      loss = model.loss(probs, y)\n",
    "      model.backward()\n",
    "      model.update()\n",
    "      #############################\n",
    "      print(f\"Loss at {n}: {loss:.3f}\")"
   ]
  },
  {
   "cell_type": "code",
   "execution_count": 15,
   "metadata": {
    "id": "m1lSq2jNcdnY",
    "scrolled": false
   },
   "outputs": [
    {
     "name": "stdout",
     "output_type": "stream",
     "text": [
      "Loss at 0: 1.135\n",
      "Loss at 1: 1.115\n",
      "Loss at 2: 1.095\n",
      "Loss at 3: 1.076\n",
      "Loss at 4: 1.057\n",
      "Loss at 5: 1.038\n",
      "Loss at 6: 1.021\n",
      "Loss at 7: 1.005\n",
      "Loss at 8: 0.989\n",
      "Loss at 9: 0.975\n",
      "Loss at 10: 0.962\n",
      "Loss at 11: 0.950\n",
      "Loss at 12: 0.939\n",
      "Loss at 13: 0.929\n",
      "Loss at 14: 0.919\n",
      "Loss at 15: 0.910\n",
      "Loss at 16: 0.901\n",
      "Loss at 17: 0.893\n",
      "Loss at 18: 0.886\n",
      "Loss at 19: 0.878\n",
      "Loss at 20: 0.872\n",
      "Loss at 21: 0.865\n",
      "Loss at 22: 0.859\n",
      "Loss at 23: 0.853\n",
      "Loss at 24: 0.847\n",
      "Loss at 25: 0.842\n",
      "Loss at 26: 0.837\n",
      "Loss at 27: 0.832\n",
      "Loss at 28: 0.827\n",
      "Loss at 29: 0.822\n",
      "Loss at 30: 0.818\n",
      "Loss at 31: 0.813\n",
      "Loss at 32: 0.809\n",
      "Loss at 33: 0.805\n",
      "Loss at 34: 0.801\n",
      "Loss at 35: 0.797\n",
      "Loss at 36: 0.793\n",
      "Loss at 37: 0.790\n",
      "Loss at 38: 0.786\n",
      "Loss at 39: 0.783\n",
      "Loss at 40: 0.779\n",
      "Loss at 41: 0.776\n",
      "Loss at 42: 0.773\n",
      "Loss at 43: 0.770\n",
      "Loss at 44: 0.767\n",
      "Loss at 45: 0.764\n",
      "Loss at 46: 0.761\n",
      "Loss at 47: 0.758\n",
      "Loss at 48: 0.756\n",
      "Loss at 49: 0.753\n",
      "Loss at 50: 0.751\n",
      "Loss at 51: 0.748\n",
      "Loss at 52: 0.746\n",
      "Loss at 53: 0.743\n",
      "Loss at 54: 0.741\n",
      "Loss at 55: 0.739\n",
      "Loss at 56: 0.736\n",
      "Loss at 57: 0.734\n",
      "Loss at 58: 0.732\n",
      "Loss at 59: 0.730\n",
      "Loss at 60: 0.728\n",
      "Loss at 61: 0.726\n",
      "Loss at 62: 0.724\n",
      "Loss at 63: 0.722\n",
      "Loss at 64: 0.721\n",
      "Loss at 65: 0.719\n",
      "Loss at 66: 0.717\n",
      "Loss at 67: 0.715\n",
      "Loss at 68: 0.714\n",
      "Loss at 69: 0.712\n",
      "Loss at 70: 0.710\n",
      "Loss at 71: 0.709\n",
      "Loss at 72: 0.707\n",
      "Loss at 73: 0.706\n",
      "Loss at 74: 0.704\n",
      "Loss at 75: 0.703\n",
      "Loss at 76: 0.701\n",
      "Loss at 77: 0.700\n",
      "Loss at 78: 0.698\n",
      "Loss at 79: 0.697\n",
      "Loss at 80: 0.696\n",
      "Loss at 81: 0.694\n",
      "Loss at 82: 0.693\n",
      "Loss at 83: 0.692\n",
      "Loss at 84: 0.691\n",
      "Loss at 85: 0.689\n",
      "Loss at 86: 0.688\n",
      "Loss at 87: 0.687\n",
      "Loss at 88: 0.686\n",
      "Loss at 89: 0.685\n",
      "Loss at 90: 0.684\n",
      "Loss at 91: 0.683\n",
      "Loss at 92: 0.682\n",
      "Loss at 93: 0.680\n",
      "Loss at 94: 0.679\n",
      "Loss at 95: 0.678\n",
      "Loss at 96: 0.677\n",
      "Loss at 97: 0.676\n",
      "Loss at 98: 0.675\n",
      "Loss at 99: 0.675\n",
      "Loss at 100: 0.674\n",
      "Loss at 101: 0.673\n",
      "Loss at 102: 0.672\n",
      "Loss at 103: 0.671\n",
      "Loss at 104: 0.670\n",
      "Loss at 105: 0.669\n",
      "Loss at 106: 0.668\n",
      "Loss at 107: 0.667\n",
      "Loss at 108: 0.667\n",
      "Loss at 109: 0.666\n",
      "Loss at 110: 0.665\n",
      "Loss at 111: 0.664\n",
      "Loss at 112: 0.663\n",
      "Loss at 113: 0.663\n",
      "Loss at 114: 0.662\n",
      "Loss at 115: 0.661\n",
      "Loss at 116: 0.660\n",
      "Loss at 117: 0.660\n",
      "Loss at 118: 0.659\n",
      "Loss at 119: 0.658\n",
      "Loss at 120: 0.658\n",
      "Loss at 121: 0.657\n",
      "Loss at 122: 0.656\n",
      "Loss at 123: 0.656\n",
      "Loss at 124: 0.655\n",
      "Loss at 125: 0.654\n",
      "Loss at 126: 0.654\n",
      "Loss at 127: 0.653\n",
      "Loss at 128: 0.653\n",
      "Loss at 129: 0.652\n",
      "Loss at 130: 0.651\n",
      "Loss at 131: 0.651\n",
      "Loss at 132: 0.650\n",
      "Loss at 133: 0.650\n",
      "Loss at 134: 0.649\n",
      "Loss at 135: 0.648\n",
      "Loss at 136: 0.648\n",
      "Loss at 137: 0.647\n",
      "Loss at 138: 0.647\n",
      "Loss at 139: 0.646\n",
      "Loss at 140: 0.646\n",
      "Loss at 141: 0.645\n",
      "Loss at 142: 0.645\n",
      "Loss at 143: 0.644\n",
      "Loss at 144: 0.644\n",
      "Loss at 145: 0.643\n",
      "Loss at 146: 0.643\n",
      "Loss at 147: 0.642\n",
      "Loss at 148: 0.642\n",
      "Loss at 149: 0.641\n"
     ]
    }
   ],
   "source": [
    "# Instantiate the `MLP` with the following structure:\n",
    "#     Linear with 50 units --> ReLU --> Linear with 50 units --> ReLU --> Linear with 3 units --> Sigmoid --> Softmax\n",
    "# Use GradientDescent as the optimizer, set the learning rate to 0.001, and use CELoss as the loss function.\n",
    "#############################\n",
    "# Your code goes here (4 points)\n",
    "in_dim = x_train.shape[1]\n",
    "layers = [\n",
    "    Linear(in_dim, 50),\n",
    "    RelU(),\n",
    "    Linear(50, 50),\n",
    "    RelU(),\n",
    "    Linear(50, 3),\n",
    "    Sigmoid(),\n",
    "    SoftMaxLayer()\n",
    "]\n",
    "\n",
    "optimizer = GradientDescent(0.01)\n",
    "loss_fn = CELoss()\n",
    "nn = MLP(layers, loss_fn, optimizer)\n",
    "#############################\n",
    "\n",
    "epochs = 150\n",
    "\n",
    "# Train the network using only `x_train` and `y_train` (no validation)\n",
    "train(nn, epochs, x_train, y_train_one)"
   ]
  },
  {
   "cell_type": "markdown",
   "metadata": {
    "id": "uJec2xRJmY37"
   },
   "source": [
    "Let's plot the loss value for each iteration"
   ]
  },
  {
   "cell_type": "code",
   "execution_count": 16,
   "metadata": {
    "id": "ymaQNn70cdnZ"
   },
   "outputs": [
    {
     "data": {
      "image/png": "[encoded data removed]",
      "text/plain": [
       "<Figure size 432x288 with 1 Axes>"
      ]
     },
     "metadata": {
      "needs_background": "light"
     },
     "output_type": "display_data"
    }
   ],
   "source": [
    "plt.plot(nn.losses)\n",
    "plt.title(\"Training loss\")\n",
    "plt.xlabel(\"Iteration\")\n",
    "plt.ylabel(\"Loss\");"
   ]
  },
  {
   "cell_type": "markdown",
   "metadata": {
    "id": "dz3yqRa1cdna"
   },
   "source": [
    "**Let's also check our model's performance using the `accuracy` metric on the `testing` dataset**"
   ]
  },
  {
   "cell_type": "code",
   "execution_count": 17,
   "metadata": {
    "id": "TRqwXho7cdnd"
   },
   "outputs": [
    {
     "name": "stdout",
     "output_type": "stream",
     "text": [
      "0.9708347301374455\n"
     ]
    }
   ],
   "source": [
    "# Compute the accuracy on the testing set\n",
    "#############################\n",
    "# Your code goes here (7 points)\n",
    "probs = nn.forward(x_test)\n",
    "preds = np.argmax(probs, axis=1)\n",
    "\n",
    "y_test_map = np.where(y_test == 7, 2, y_test)\n",
    "acc = np.average(preds == y_test_map)\n",
    "#############################\n",
    "\n",
    "print(acc)"
   ]
  }
 ],
 "metadata": {
  "colab": {
   "provenance": []
  },
  "gpuClass": "standard",
  "kernelspec": {
   "display_name": "Python 3",
   "language": "python",
   "name": "python3"
  },
  "language_info": {
   "codemirror_mode": {
    "name": "ipython",
    "version": 3
   },
   "file_extension": ".py",
   "mimetype": "text/x-python",
   "name": "python",
   "nbconvert_exporter": "python",
   "pygments_lexer": "ipython3",
   "version": "3.9.4"
  }
 },
 "nbformat": 4,
 "nbformat_minor": 1
}
