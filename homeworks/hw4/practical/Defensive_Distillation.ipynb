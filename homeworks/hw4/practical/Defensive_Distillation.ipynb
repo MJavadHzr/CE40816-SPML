{
  "cells": [
    {
      "cell_type": "markdown",
      "metadata": {
        "id": "CgdNuxMaf_p2"
      },
      "source": [
        "# SPML HW3 - Defensive Distillation (30)\n",
        "\n",
        "### Deadline: 1402/2/30\n",
        "\n",
        "#### Name: Javad Hezareh\n",
        "#### Student No.: 9810174"
      ]
    },
    {
      "cell_type": "markdown",
      "metadata": {
        "id": "xpKO-cm_Z54s"
      },
      "source": [
        "In this notebook, you are going to attack a defensively distilled model\n",
        "\n",
        "Please write your code in specified sections and do not change anything else. If you have a question regarding this homework, please ask it on the course page.\n",
        "\n",
        "Also, it is recommended to use google colab to do this homework. You can connect to your drive using the code below:"
      ]
    },
    {
      "cell_type": "markdown",
      "metadata": {
        "id": "NJb0CvxpL1Q2"
      },
      "source": [
        "## Initializations"
      ]
    },
    {
      "cell_type": "code",
      "execution_count": null,
      "metadata": {
        "id": "jNyN53BvAoD1"
      },
      "outputs": [],
      "source": [
        "import torch\n",
        "import torchvision\n",
        "import torch.nn as nn\n",
        "import torch.nn.functional as F\n",
        "import torchvision.transforms as transforms\n",
        "from torchvision.models import resnet18\n",
        "import torch.optim as optim\n",
        "\n",
        "from torch.utils.data import DataLoader\n",
        "from torch.utils.data import random_split\n",
        "from tqdm import tqdm\n",
        "import matplotlib.pyplot as plt"
      ]
    },
    {
      "cell_type": "markdown",
      "metadata": {
        "id": "KncQ7q9NL32n"
      },
      "source": [
        "## Defining Teacher and Student Classes"
      ]
    },
    {
      "cell_type": "code",
      "execution_count": null,
      "metadata": {
        "id": "tFjhNHr9BELF"
      },
      "outputs": [],
      "source": [
        "class Teacher(nn.Module):\n",
        "  def __init__(self, num_cls, T=1):\n",
        "    super().__init__()\n",
        "    self.conv = nn.Sequential(\n",
        "        *list(resnet18(pretrained=False).children())[:-2])\n",
        "    \n",
        "    self.fc = nn.Linear(512, num_cls)\n",
        "    self.temp = T\n",
        "  \n",
        "  def forward(self, x, T=None):\n",
        "    if T is None:\n",
        "      T = self.temp\n",
        "    x = self.conv(x)\n",
        "    x = torch.flatten(x, start_dim=1)\n",
        "    logits = self.fc(x)\n",
        "    output = torch.softmax(logits / T, dim=1)\n",
        "\n",
        "    return logits, output\n",
        "\n",
        "class Student(nn.Module):\n",
        "  def __init__(self, num_cls, T=1):\n",
        "    super().__init__()\n",
        "    self.conv1 = nn.Conv2d(3, 6, 5)\n",
        "    self.pool = nn.MaxPool2d(2, 2)\n",
        "    self.conv2 = nn.Conv2d(6, 16, 5)\n",
        "    self.fc1 = nn.Linear(16 * 5 * 5, 120)\n",
        "    self.fc2 = nn.Linear(120, 84)\n",
        "    self.fc3 = nn.Linear(84, num_cls)\n",
        "    self.temp = T\n",
        "\n",
        "  def forward(self, x, T=None):\n",
        "    if T is None:\n",
        "      T = self.temp\n",
        "    x = self.pool(F.relu(self.conv1(x)))\n",
        "    x = self.pool(F.relu(self.conv2(x)))\n",
        "    x = torch.flatten(x, 1)\n",
        "    x = F.relu(self.fc1(x))\n",
        "    x = F.relu(self.fc2(x))\n",
        "    logits = self.fc3(x)\n",
        "\n",
        "    output = torch.softmax(logits / T, dim=1)\n",
        "    return logits, output"
      ]
    },
    {
      "cell_type": "code",
      "execution_count": null,
      "metadata": {
        "colab": {
          "base_uri": "https://localhost:8080/"
        },
        "id": "vADZfUlJdbWZ",
        "outputId": "588abfa6-46d7-46e5-c525-9d31d6b33685"
      },
      "outputs": [
        {
          "output_type": "stream",
          "name": "stdout",
          "text": [
            "Downloading https://www.cs.toronto.edu/~kriz/cifar-10-python.tar.gz to ./data/cifar-10-python.tar.gz\n"
          ]
        },
        {
          "output_type": "stream",
          "name": "stderr",
          "text": [
            "100%|██████████| 170498071/170498071 [00:13<00:00, 12408801.88it/s]\n"
          ]
        },
        {
          "output_type": "stream",
          "name": "stdout",
          "text": [
            "Extracting ./data/cifar-10-python.tar.gz to ./data\n",
            "Files already downloaded and verified\n"
          ]
        }
      ],
      "source": [
        "transform = transforms.Compose(\n",
        "    [transforms.ToTensor(),\n",
        "     transforms.Normalize((0.5, 0.5, 0.5), (0.5, 0.5, 0.5))])\n",
        "\n",
        "batch_size = 128\n",
        "\n",
        "trainset = torchvision.datasets.CIFAR10(root='./data', train=True,\n",
        "                                        download=True, transform=transform)\n",
        "\n",
        "testset = torchvision.datasets.CIFAR10(root='./data', train=False,\n",
        "                                       download=True, transform=transform)\n",
        "\n",
        "###################### Problem 1 (3 points) ####################################\n",
        "# todo: Define your data loaders for training, testing, and validation         #\n",
        "################################################################################\n",
        "trainset, valset = random_split(trainset, [0.8, 0.2])\n",
        "\n",
        "trainloader = DataLoader(trainset, batch_size=batch_size, shuffle=True)\n",
        "valloader = DataLoader(valset, batch_size=batch_size, shuffle=False)\n",
        "testloader = DataLoader(testset, batch_size=batch_size, shuffle=False)\n",
        "################################ End ###########################################\n",
        "\n",
        "classes = ('plane', 'car', 'bird', 'cat',\n",
        "           'deer', 'dog', 'frog', 'horse', 'ship', 'truck')\n",
        "\n",
        "device = torch.device('cuda:0' if torch.cuda.is_available() else 'cpu')"
      ]
    },
    {
      "cell_type": "markdown",
      "metadata": {
        "id": "LvTvfZybMBSR"
      },
      "source": [
        "## Training"
      ]
    },
    {
      "cell_type": "markdown",
      "metadata": {
        "id": "BCmosNdHMExH"
      },
      "source": [
        "### Teacher Network Training"
      ]
    },
    {
      "cell_type": "code",
      "execution_count": null,
      "metadata": {
        "id": "LgTK7EhrIs_r"
      },
      "outputs": [],
      "source": [
        "def standard_train(model, loader, num_epoch, optimizer, criterion, T=None, \n",
        "                   device=device):\n",
        "    ###################### Problem 2 (4 points) ##################################\n",
        "    # todo: Iterate over loader in each epoch                                    #\n",
        "    # todo: Compute the model's output for each batch at the given temperature T #\n",
        "    # todo: Compute the loss function and take a step by the optimizer           #\n",
        "    # todo: Monitor the training procedure                                       #\n",
        "    ##############################################################################\n",
        "    losses = []\n",
        "    # your code goes here\n",
        "    for e in range(num_epoch):\n",
        "        total_loss = 0\n",
        "        N = 0\n",
        "        with tqdm(enumerate(loader), total=len(loader)) as pbar:\n",
        "            for i, (imgs, labels) in pbar:\n",
        "                imgs = imgs.to(device)\n",
        "                labels = labels.to(device)\n",
        "                b_size = len(labels)\n",
        "\n",
        "                optimizer.zero_grad()\n",
        "                logits, output = model(imgs, T)\n",
        "\n",
        "                loss = criterion(output, labels)\n",
        "                loss.backward()\n",
        "                optimizer.step()\n",
        "\n",
        "                losses.append(loss.item())\n",
        "                total_loss += loss.item() * b_size\n",
        "                N += b_size\n",
        "\n",
        "                pbar.set_description(f\"Epoch{e}: total_loss={total_loss/N:.3f}\")\n",
        "        \n",
        "        print(f\"------------- [Epoch{e} Finished!] -------------\")\n",
        "\n",
        "    plt.plot(losses);\n",
        "    ##############################################################################"
      ]
    },
    {
      "cell_type": "code",
      "execution_count": null,
      "metadata": {
        "colab": {
          "base_uri": "https://localhost:8080/"
        },
        "id": "gkIqSmUjLOIJ",
        "outputId": "c1a65b71-07a4-4bd4-a7e5-1b59d5a68cbc"
      },
      "outputs": [
        {
          "output_type": "stream",
          "name": "stderr",
          "text": [
            "/usr/local/lib/python3.10/dist-packages/torchvision/models/_utils.py:208: UserWarning: The parameter 'pretrained' is deprecated since 0.13 and may be removed in the future, please use 'weights' instead.\n",
            "  warnings.warn(\n",
            "/usr/local/lib/python3.10/dist-packages/torchvision/models/_utils.py:223: UserWarning: Arguments other than a weight enum or `None` for 'weights' are deprecated since 0.13 and may be removed in the future. The current behavior is equivalent to passing `weights=None`.\n",
            "  warnings.warn(msg)\n"
          ]
        }
      ],
      "source": [
        "T = 100\n",
        "teacher = Teacher(len(classes), T=T).to(device)\n",
        "teacher_optim = optim.Adam(teacher.parameters())\n",
        "teacher_criterion = nn.CrossEntropyLoss()"
      ]
    },
    {
      "cell_type": "code",
      "execution_count": null,
      "metadata": {
        "colab": {
          "base_uri": "https://localhost:8080/",
          "height": 951
        },
        "id": "XbSXhhVloGBJ",
        "outputId": "91f83dac-128a-4aca-e809-62adfb0e3174"
      },
      "outputs": [
        {
          "output_type": "stream",
          "name": "stderr",
          "text": [
            "Epoch0: total_loss=2.155: 100%|██████████| 313/313 [00:27<00:00, 11.20it/s]\n"
          ]
        },
        {
          "output_type": "stream",
          "name": "stdout",
          "text": [
            "------------- [Epoch0 Finished!] -------------\n"
          ]
        },
        {
          "output_type": "stream",
          "name": "stderr",
          "text": [
            "Epoch1: total_loss=1.963: 100%|██████████| 313/313 [00:20<00:00, 14.94it/s]\n"
          ]
        },
        {
          "output_type": "stream",
          "name": "stdout",
          "text": [
            "------------- [Epoch1 Finished!] -------------\n"
          ]
        },
        {
          "output_type": "stream",
          "name": "stderr",
          "text": [
            "Epoch2: total_loss=1.888: 100%|██████████| 313/313 [00:20<00:00, 14.95it/s]\n"
          ]
        },
        {
          "output_type": "stream",
          "name": "stdout",
          "text": [
            "------------- [Epoch2 Finished!] -------------\n"
          ]
        },
        {
          "output_type": "stream",
          "name": "stderr",
          "text": [
            "Epoch3: total_loss=1.835: 100%|██████████| 313/313 [00:21<00:00, 14.49it/s]\n"
          ]
        },
        {
          "output_type": "stream",
          "name": "stdout",
          "text": [
            "------------- [Epoch3 Finished!] -------------\n"
          ]
        },
        {
          "output_type": "stream",
          "name": "stderr",
          "text": [
            "Epoch4: total_loss=1.802: 100%|██████████| 313/313 [00:20<00:00, 15.36it/s]\n"
          ]
        },
        {
          "output_type": "stream",
          "name": "stdout",
          "text": [
            "------------- [Epoch4 Finished!] -------------\n"
          ]
        },
        {
          "output_type": "stream",
          "name": "stderr",
          "text": [
            "Epoch5: total_loss=1.779: 100%|██████████| 313/313 [00:20<00:00, 14.95it/s]\n"
          ]
        },
        {
          "output_type": "stream",
          "name": "stdout",
          "text": [
            "------------- [Epoch5 Finished!] -------------\n"
          ]
        },
        {
          "output_type": "stream",
          "name": "stderr",
          "text": [
            "Epoch6: total_loss=1.761: 100%|██████████| 313/313 [00:20<00:00, 15.39it/s]\n"
          ]
        },
        {
          "output_type": "stream",
          "name": "stdout",
          "text": [
            "------------- [Epoch6 Finished!] -------------\n"
          ]
        },
        {
          "output_type": "stream",
          "name": "stderr",
          "text": [
            "Epoch7: total_loss=1.743: 100%|██████████| 313/313 [00:26<00:00, 11.87it/s]\n"
          ]
        },
        {
          "output_type": "stream",
          "name": "stdout",
          "text": [
            "------------- [Epoch7 Finished!] -------------\n"
          ]
        },
        {
          "output_type": "stream",
          "name": "stderr",
          "text": [
            "Epoch8: total_loss=1.730: 100%|██████████| 313/313 [00:20<00:00, 15.35it/s]\n"
          ]
        },
        {
          "output_type": "stream",
          "name": "stdout",
          "text": [
            "------------- [Epoch8 Finished!] -------------\n"
          ]
        },
        {
          "output_type": "stream",
          "name": "stderr",
          "text": [
            "Epoch9: total_loss=1.718: 100%|██████████| 313/313 [00:21<00:00, 14.41it/s]\n"
          ]
        },
        {
          "output_type": "stream",
          "name": "stdout",
          "text": [
            "------------- [Epoch9 Finished!] -------------\n"
          ]
        },
        {
          "output_type": "stream",
          "name": "stderr",
          "text": [
            "Epoch10: total_loss=1.704: 100%|██████████| 313/313 [00:21<00:00, 14.28it/s]\n"
          ]
        },
        {
          "output_type": "stream",
          "name": "stdout",
          "text": [
            "------------- [Epoch10 Finished!] -------------\n"
          ]
        },
        {
          "output_type": "stream",
          "name": "stderr",
          "text": [
            "Epoch11: total_loss=1.694: 100%|██████████| 313/313 [00:20<00:00, 15.07it/s]\n"
          ]
        },
        {
          "output_type": "stream",
          "name": "stdout",
          "text": [
            "------------- [Epoch11 Finished!] -------------\n"
          ]
        },
        {
          "output_type": "stream",
          "name": "stderr",
          "text": [
            "Epoch12: total_loss=1.686: 100%|██████████| 313/313 [00:20<00:00, 15.37it/s]\n"
          ]
        },
        {
          "output_type": "stream",
          "name": "stdout",
          "text": [
            "------------- [Epoch12 Finished!] -------------\n"
          ]
        },
        {
          "output_type": "stream",
          "name": "stderr",
          "text": [
            "Epoch13: total_loss=1.681: 100%|██████████| 313/313 [00:20<00:00, 15.05it/s]\n"
          ]
        },
        {
          "output_type": "stream",
          "name": "stdout",
          "text": [
            "------------- [Epoch13 Finished!] -------------\n"
          ]
        },
        {
          "output_type": "stream",
          "name": "stderr",
          "text": [
            "Epoch14: total_loss=1.670: 100%|██████████| 313/313 [00:21<00:00, 14.90it/s]\n"
          ]
        },
        {
          "output_type": "stream",
          "name": "stdout",
          "text": [
            "------------- [Epoch14 Finished!] -------------\n"
          ]
        },
        {
          "output_type": "display_data",
          "data": {
            "text/plain": [
              "<Figure size 640x480 with 1 Axes>"
            ],
            "image/png": "[encoded data removed]"
          },
          "metadata": {}
        }
      ],
      "source": [
        "standard_train(model=teacher, \n",
        "            loader=trainloader, \n",
        "            num_epoch=15, \n",
        "            optimizer=teacher_optim, \n",
        "            criterion=teacher_criterion, \n",
        "            T=T, \n",
        "            device=device)"
      ]
    },
    {
      "cell_type": "markdown",
      "metadata": {
        "id": "EA_uJ6kYMKiY"
      },
      "source": [
        "### Student Network Training"
      ]
    },
    {
      "cell_type": "code",
      "execution_count": null,
      "metadata": {
        "id": "NMU4qFqwJWXO"
      },
      "outputs": [],
      "source": [
        "def distillation(teacher, student, loader, num_epoch, optimizer, criterion, \n",
        "                 T=None, device=device):\n",
        "    ###################### Problem 3 (6 points) ##################################\n",
        "    # todo: Iterate over loader in each epoch                                    #\n",
        "    # todo: Compute MSE loss between student's logit and teacher's logit         #\n",
        "    # todo: Take a step by the optimizer                                         #\n",
        "    # todo: Monitor the training procedure                                       #\n",
        "    ##############################################################################\n",
        "    losses = []\n",
        "    # your code goes here\n",
        "    for e in range(num_epoch):\n",
        "        total_loss = 0\n",
        "        N = 0\n",
        "        with tqdm(enumerate(loader), total=len(loader)) as pbar:\n",
        "            for i, (imgs, labels) in pbar:\n",
        "                imgs = imgs.to(device)\n",
        "                labels = labels.to(device)\n",
        "                b_size = len(labels)\n",
        "\n",
        "                optimizer.zero_grad()\n",
        "                teacher_logits, _ = teacher(imgs, T)\n",
        "                student_logits, _ = student(imgs, T)\n",
        "\n",
        "                loss = criterion(student_logits, teacher_logits)\n",
        "                loss.backward()\n",
        "                optimizer.step()\n",
        "\n",
        "                losses.append(loss.item())\n",
        "                total_loss += loss.item() * b_size\n",
        "                N += b_size\n",
        "\n",
        "                pbar.set_description(f\"Epoch{e}: total_loss={total_loss/N:.3f}\")\n",
        "        \n",
        "        print(f\"------------- [Epoch{e} Finished!] -------------\")\n",
        "\n",
        "    plt.plot(losses);\n",
        "  ################################ End #########################################"
      ]
    },
    {
      "cell_type": "code",
      "execution_count": null,
      "metadata": {
        "id": "m6EXzkMiKIZL"
      },
      "outputs": [],
      "source": [
        "T = 100\n",
        "student = Student(len(classes), T=T).to(device)\n",
        "student_optim = optim.Adam(student.parameters())\n",
        "std_criterion = nn.MSELoss()"
      ]
    },
    {
      "cell_type": "code",
      "execution_count": null,
      "metadata": {
        "id": "Arnzq1nuJ9ro",
        "colab": {
          "base_uri": "https://localhost:8080/",
          "height": 1000
        },
        "outputId": "51bb49c3-55fb-4922-fe06-b42213a56c17"
      },
      "outputs": [
        {
          "metadata": {
            "tags": null
          },
          "name": "stderr",
          "output_type": "stream",
          "text": [
            "Epoch0: total_loss=198100.092: 100%|██████████| 313/313 [00:21<00:00, 14.84it/s]\n"
          ]
        },
        {
          "metadata": {
            "tags": null
          },
          "name": "stdout",
          "output_type": "stream",
          "text": [
            "------------- [Epoch0 Finished!] -------------\n"
          ]
        },
        {
          "metadata": {
            "tags": null
          },
          "name": "stderr",
          "output_type": "stream",
          "text": [
            "Epoch1: total_loss=170915.638: 100%|██████████| 313/313 [00:20<00:00, 15.23it/s]\n"
          ]
        },
        {
          "metadata": {
            "tags": null
          },
          "name": "stdout",
          "output_type": "stream",
          "text": [
            "------------- [Epoch1 Finished!] -------------\n"
          ]
        },
        {
          "metadata": {
            "tags": null
          },
          "name": "stderr",
          "output_type": "stream",
          "text": [
            "Epoch2: total_loss=169812.485: 100%|██████████| 313/313 [00:20<00:00, 15.42it/s]\n"
          ]
        },
        {
          "metadata": {
            "tags": null
          },
          "name": "stdout",
          "output_type": "stream",
          "text": [
            "------------- [Epoch2 Finished!] -------------\n"
          ]
        },
        {
          "metadata": {
            "tags": null
          },
          "name": "stderr",
          "output_type": "stream",
          "text": [
            "Epoch3: total_loss=165496.248: 100%|██████████| 313/313 [00:20<00:00, 15.30it/s]\n"
          ]
        },
        {
          "metadata": {
            "tags": null
          },
          "name": "stdout",
          "output_type": "stream",
          "text": [
            "------------- [Epoch3 Finished!] -------------\n"
          ]
        },
        {
          "metadata": {
            "tags": null
          },
          "name": "stderr",
          "output_type": "stream",
          "text": [
            "Epoch4: total_loss=140066.198: 100%|██████████| 313/313 [00:20<00:00, 14.98it/s]\n"
          ]
        },
        {
          "metadata": {
            "tags": null
          },
          "name": "stdout",
          "output_type": "stream",
          "text": [
            "------------- [Epoch4 Finished!] -------------\n"
          ]
        },
        {
          "metadata": {
            "tags": null
          },
          "name": "stderr",
          "output_type": "stream",
          "text": [
            "Epoch5: total_loss=132991.892: 100%|██████████| 313/313 [00:20<00:00, 15.34it/s]\n"
          ]
        },
        {
          "metadata": {
            "tags": null
          },
          "name": "stdout",
          "output_type": "stream",
          "text": [
            "------------- [Epoch5 Finished!] -------------\n"
          ]
        },
        {
          "metadata": {
            "tags": null
          },
          "name": "stderr",
          "output_type": "stream",
          "text": [
            "Epoch6: total_loss=129602.584: 100%|██████████| 313/313 [00:22<00:00, 14.04it/s]\n"
          ]
        },
        {
          "metadata": {
            "tags": null
          },
          "name": "stdout",
          "output_type": "stream",
          "text": [
            "------------- [Epoch6 Finished!] -------------\n"
          ]
        },
        {
          "metadata": {
            "tags": null
          },
          "name": "stderr",
          "output_type": "stream",
          "text": [
            "Epoch7: total_loss=122929.354: 100%|██████████| 313/313 [00:21<00:00, 14.37it/s]\n"
          ]
        },
        {
          "metadata": {
            "tags": null
          },
          "name": "stdout",
          "output_type": "stream",
          "text": [
            "------------- [Epoch7 Finished!] -------------\n"
          ]
        },
        {
          "metadata": {
            "tags": null
          },
          "name": "stderr",
          "output_type": "stream",
          "text": [
            "Epoch8: total_loss=113515.059: 100%|██████████| 313/313 [00:20<00:00, 15.53it/s]\n"
          ]
        },
        {
          "metadata": {
            "tags": null
          },
          "name": "stdout",
          "output_type": "stream",
          "text": [
            "------------- [Epoch8 Finished!] -------------\n"
          ]
        },
        {
          "metadata": {
            "tags": null
          },
          "name": "stderr",
          "output_type": "stream",
          "text": [
            "Epoch9: total_loss=108526.398: 100%|██████████| 313/313 [00:20<00:00, 14.97it/s]\n"
          ]
        },
        {
          "metadata": {
            "tags": null
          },
          "name": "stdout",
          "output_type": "stream",
          "text": [
            "------------- [Epoch9 Finished!] -------------\n"
          ]
        },
        {
          "metadata": {
            "tags": null
          },
          "name": "stderr",
          "output_type": "stream",
          "text": [
            "Epoch10: total_loss=104722.767: 100%|██████████| 313/313 [00:21<00:00, 14.89it/s]\n"
          ]
        },
        {
          "metadata": {
            "tags": null
          },
          "name": "stdout",
          "output_type": "stream",
          "text": [
            "------------- [Epoch10 Finished!] -------------\n"
          ]
        },
        {
          "metadata": {
            "tags": null
          },
          "name": "stderr",
          "output_type": "stream",
          "text": [
            "Epoch11: total_loss=100935.481: 100%|██████████| 313/313 [00:20<00:00, 15.33it/s]\n"
          ]
        },
        {
          "metadata": {
            "tags": null
          },
          "name": "stdout",
          "output_type": "stream",
          "text": [
            "------------- [Epoch11 Finished!] -------------\n"
          ]
        },
        {
          "metadata": {
            "tags": null
          },
          "name": "stderr",
          "output_type": "stream",
          "text": [
            "Epoch12: total_loss=97910.470: 100%|██████████| 313/313 [00:20<00:00, 15.24it/s]\n"
          ]
        },
        {
          "metadata": {
            "tags": null
          },
          "name": "stdout",
          "output_type": "stream",
          "text": [
            "------------- [Epoch12 Finished!] -------------\n"
          ]
        },
        {
          "metadata": {
            "tags": null
          },
          "name": "stderr",
          "output_type": "stream",
          "text": [
            "Epoch13: total_loss=95126.368: 100%|██████████| 313/313 [00:21<00:00, 14.90it/s]\n"
          ]
        },
        {
          "metadata": {
            "tags": null
          },
          "name": "stdout",
          "output_type": "stream",
          "text": [
            "------------- [Epoch13 Finished!] -------------\n"
          ]
        },
        {
          "metadata": {
            "tags": null
          },
          "name": "stderr",
          "output_type": "stream",
          "text": [
            "Epoch14: total_loss=92803.912: 100%|██████████| 313/313 [00:20<00:00, 15.14it/s]\n"
          ]
        },
        {
          "metadata": {
            "tags": null
          },
          "name": "stdout",
          "output_type": "stream",
          "text": [
            "------------- [Epoch14 Finished!] -------------\n"
          ]
        },
        {
          "metadata": {
            "tags": null
          },
          "name": "stderr",
          "output_type": "stream",
          "text": [
            "Epoch15: total_loss=90244.150: 100%|██████████| 313/313 [00:20<00:00, 15.54it/s]\n"
          ]
        },
        {
          "metadata": {
            "tags": null
          },
          "name": "stdout",
          "output_type": "stream",
          "text": [
            "------------- [Epoch15 Finished!] -------------\n"
          ]
        },
        {
          "metadata": {
            "tags": null
          },
          "name": "stderr",
          "output_type": "stream",
          "text": [
            "Epoch16: total_loss=88330.414: 100%|██████████| 313/313 [00:20<00:00, 15.33it/s]\n"
          ]
        },
        {
          "metadata": {
            "tags": null
          },
          "name": "stdout",
          "output_type": "stream",
          "text": [
            "------------- [Epoch16 Finished!] -------------\n"
          ]
        },
        {
          "metadata": {
            "tags": null
          },
          "name": "stderr",
          "output_type": "stream",
          "text": [
            "Epoch17: total_loss=86614.217: 100%|██████████| 313/313 [00:20<00:00, 15.18it/s]\n"
          ]
        },
        {
          "metadata": {
            "tags": null
          },
          "name": "stdout",
          "output_type": "stream",
          "text": [
            "------------- [Epoch17 Finished!] -------------\n"
          ]
        },
        {
          "metadata": {
            "tags": null
          },
          "name": "stderr",
          "output_type": "stream",
          "text": [
            "Epoch18: total_loss=84719.350: 100%|██████████| 313/313 [00:20<00:00, 15.07it/s]\n"
          ]
        },
        {
          "metadata": {
            "tags": null
          },
          "name": "stdout",
          "output_type": "stream",
          "text": [
            "------------- [Epoch18 Finished!] -------------\n"
          ]
        },
        {
          "metadata": {
            "tags": null
          },
          "name": "stderr",
          "output_type": "stream",
          "text": [
            "Epoch19: total_loss=83203.567: 100%|██████████| 313/313 [00:20<00:00, 15.26it/s]\n"
          ]
        },
        {
          "metadata": {
            "tags": null
          },
          "name": "stdout",
          "output_type": "stream",
          "text": [
            "------------- [Epoch19 Finished!] -------------\n"
          ]
        },
        {
          "metadata": {
            "tags": null
          },
          "name": "stderr",
          "output_type": "stream",
          "text": [
            "Epoch20: total_loss=81819.557: 100%|██████████| 313/313 [00:21<00:00, 14.50it/s]\n"
          ]
        },
        {
          "metadata": {
            "tags": null
          },
          "name": "stdout",
          "output_type": "stream",
          "text": [
            "------------- [Epoch20 Finished!] -------------\n"
          ]
        },
        {
          "metadata": {
            "tags": null
          },
          "name": "stderr",
          "output_type": "stream",
          "text": [
            "Epoch21: total_loss=80521.951: 100%|██████████| 313/313 [00:20<00:00, 15.00it/s]\n"
          ]
        },
        {
          "metadata": {
            "tags": null
          },
          "name": "stdout",
          "output_type": "stream",
          "text": [
            "------------- [Epoch21 Finished!] -------------\n"
          ]
        },
        {
          "metadata": {
            "tags": null
          },
          "name": "stderr",
          "output_type": "stream",
          "text": [
            "Epoch22: total_loss=79268.638: 100%|██████████| 313/313 [00:21<00:00, 14.87it/s]\n"
          ]
        },
        {
          "metadata": {
            "tags": null
          },
          "name": "stdout",
          "output_type": "stream",
          "text": [
            "------------- [Epoch22 Finished!] -------------\n"
          ]
        },
        {
          "metadata": {
            "tags": null
          },
          "name": "stderr",
          "output_type": "stream",
          "text": [
            "Epoch23: total_loss=77938.511: 100%|██████████| 313/313 [00:21<00:00, 14.82it/s]\n"
          ]
        },
        {
          "metadata": {
            "tags": null
          },
          "name": "stdout",
          "output_type": "stream",
          "text": [
            "------------- [Epoch23 Finished!] -------------\n"
          ]
        },
        {
          "metadata": {
            "tags": null
          },
          "name": "stderr",
          "output_type": "stream",
          "text": [
            "Epoch24: total_loss=77034.491: 100%|██████████| 313/313 [00:20<00:00, 14.94it/s]\n"
          ]
        },
        {
          "metadata": {
            "tags": null
          },
          "name": "stdout",
          "output_type": "stream",
          "text": [
            "------------- [Epoch24 Finished!] -------------\n"
          ]
        },
        {
          "metadata": {
            "tags": null
          },
          "name": "stderr",
          "output_type": "stream",
          "text": [
            "Epoch25: total_loss=75634.776: 100%|██████████| 313/313 [00:21<00:00, 14.62it/s]\n"
          ]
        },
        {
          "metadata": {
            "tags": null
          },
          "name": "stdout",
          "output_type": "stream",
          "text": [
            "------------- [Epoch25 Finished!] -------------\n"
          ]
        },
        {
          "metadata": {
            "tags": null
          },
          "name": "stderr",
          "output_type": "stream",
          "text": [
            "Epoch26: total_loss=74708.056: 100%|██████████| 313/313 [00:21<00:00, 14.87it/s]\n"
          ]
        },
        {
          "metadata": {
            "tags": null
          },
          "name": "stdout",
          "output_type": "stream",
          "text": [
            "------------- [Epoch26 Finished!] -------------\n"
          ]
        },
        {
          "metadata": {
            "tags": null
          },
          "name": "stderr",
          "output_type": "stream",
          "text": [
            "Epoch27: total_loss=73423.731: 100%|██████████| 313/313 [00:21<00:00, 14.86it/s]\n"
          ]
        },
        {
          "metadata": {
            "tags": null
          },
          "name": "stdout",
          "output_type": "stream",
          "text": [
            "------------- [Epoch27 Finished!] -------------\n"
          ]
        },
        {
          "metadata": {
            "tags": null
          },
          "name": "stderr",
          "output_type": "stream",
          "text": [
            "Epoch28: total_loss=72432.183: 100%|██████████| 313/313 [00:19<00:00, 15.71it/s]\n"
          ]
        },
        {
          "metadata": {
            "tags": null
          },
          "name": "stdout",
          "output_type": "stream",
          "text": [
            "------------- [Epoch28 Finished!] -------------\n"
          ]
        },
        {
          "metadata": {
            "tags": null
          },
          "name": "stderr",
          "output_type": "stream",
          "text": [
            "Epoch29: total_loss=71749.538: 100%|██████████| 313/313 [00:19<00:00, 15.96it/s]\n"
          ]
        },
        {
          "metadata": {
            "tags": null
          },
          "name": "stdout",
          "output_type": "stream",
          "text": [
            "------------- [Epoch29 Finished!] -------------\n"
          ]
        },
        {
          "metadata": {
            "tags": null
          },
          "name": "stderr",
          "output_type": "stream",
          "text": [
            "Epoch30: total_loss=70499.423: 100%|██████████| 313/313 [00:19<00:00, 15.86it/s]\n"
          ]
        },
        {
          "metadata": {
            "tags": null
          },
          "name": "stdout",
          "output_type": "stream",
          "text": [
            "------------- [Epoch30 Finished!] -------------\n"
          ]
        },
        {
          "metadata": {
            "tags": null
          },
          "name": "stderr",
          "output_type": "stream",
          "text": [
            "Epoch31: total_loss=69335.200: 100%|██████████| 313/313 [00:19<00:00, 15.66it/s]\n"
          ]
        },
        {
          "metadata": {
            "tags": null
          },
          "name": "stdout",
          "output_type": "stream",
          "text": [
            "------------- [Epoch31 Finished!] -------------\n"
          ]
        },
        {
          "metadata": {
            "tags": null
          },
          "name": "stderr",
          "output_type": "stream",
          "text": [
            "Epoch32: total_loss=68471.961: 100%|██████████| 313/313 [00:19<00:00, 15.71it/s]\n"
          ]
        },
        {
          "metadata": {
            "tags": null
          },
          "name": "stdout",
          "output_type": "stream",
          "text": [
            "------------- [Epoch32 Finished!] -------------\n"
          ]
        },
        {
          "metadata": {
            "tags": null
          },
          "name": "stderr",
          "output_type": "stream",
          "text": [
            "Epoch33: total_loss=67623.212: 100%|██████████| 313/313 [00:20<00:00, 15.60it/s]\n"
          ]
        },
        {
          "metadata": {
            "tags": null
          },
          "name": "stdout",
          "output_type": "stream",
          "text": [
            "------------- [Epoch33 Finished!] -------------\n"
          ]
        },
        {
          "metadata": {
            "tags": null
          },
          "name": "stderr",
          "output_type": "stream",
          "text": [
            "Epoch34: total_loss=66825.572: 100%|██████████| 313/313 [00:21<00:00, 14.65it/s]\n"
          ]
        },
        {
          "metadata": {
            "tags": null
          },
          "name": "stdout",
          "output_type": "stream",
          "text": [
            "------------- [Epoch34 Finished!] -------------\n"
          ]
        },
        {
          "metadata": {
            "tags": null
          },
          "name": "stderr",
          "output_type": "stream",
          "text": [
            "Epoch35: total_loss=66299.740: 100%|██████████| 313/313 [00:20<00:00, 15.04it/s]\n"
          ]
        },
        {
          "metadata": {
            "tags": null
          },
          "name": "stdout",
          "output_type": "stream",
          "text": [
            "------------- [Epoch35 Finished!] -------------\n"
          ]
        },
        {
          "metadata": {
            "tags": null
          },
          "name": "stderr",
          "output_type": "stream",
          "text": [
            "Epoch36: total_loss=65673.252: 100%|██████████| 313/313 [00:21<00:00, 14.44it/s]\n"
          ]
        },
        {
          "metadata": {
            "tags": null
          },
          "name": "stdout",
          "output_type": "stream",
          "text": [
            "------------- [Epoch36 Finished!] -------------\n"
          ]
        },
        {
          "metadata": {
            "tags": null
          },
          "name": "stderr",
          "output_type": "stream",
          "text": [
            "Epoch37: total_loss=64912.613: 100%|██████████| 313/313 [00:22<00:00, 14.05it/s]\n"
          ]
        },
        {
          "metadata": {
            "tags": null
          },
          "name": "stdout",
          "output_type": "stream",
          "text": [
            "------------- [Epoch37 Finished!] -------------\n"
          ]
        },
        {
          "metadata": {
            "tags": null
          },
          "name": "stderr",
          "output_type": "stream",
          "text": [
            "Epoch38: total_loss=64357.267: 100%|██████████| 313/313 [00:22<00:00, 14.08it/s]\n"
          ]
        },
        {
          "metadata": {
            "tags": null
          },
          "name": "stdout",
          "output_type": "stream",
          "text": [
            "------------- [Epoch38 Finished!] -------------\n"
          ]
        },
        {
          "metadata": {
            "tags": null
          },
          "name": "stderr",
          "output_type": "stream",
          "text": [
            "Epoch39: total_loss=63272.427: 100%|██████████| 313/313 [00:21<00:00, 14.62it/s]\n"
          ]
        },
        {
          "metadata": {
            "tags": null
          },
          "name": "stdout",
          "output_type": "stream",
          "text": [
            "------------- [Epoch39 Finished!] -------------\n"
          ]
        },
        {
          "metadata": {
            "tags": null
          },
          "name": "stderr",
          "output_type": "stream",
          "text": [
            "Epoch40: total_loss=63028.407: 100%|██████████| 313/313 [00:21<00:00, 14.64it/s]\n"
          ]
        },
        {
          "metadata": {
            "tags": null
          },
          "name": "stdout",
          "output_type": "stream",
          "text": [
            "------------- [Epoch40 Finished!] -------------\n"
          ]
        },
        {
          "metadata": {
            "tags": null
          },
          "name": "stderr",
          "output_type": "stream",
          "text": [
            "Epoch41: total_loss=62422.708: 100%|██████████| 313/313 [00:21<00:00, 14.52it/s]\n"
          ]
        },
        {
          "metadata": {
            "tags": null
          },
          "name": "stdout",
          "output_type": "stream",
          "text": [
            "------------- [Epoch41 Finished!] -------------\n"
          ]
        },
        {
          "metadata": {
            "tags": null
          },
          "name": "stderr",
          "output_type": "stream",
          "text": [
            "Epoch42: total_loss=61733.066: 100%|██████████| 313/313 [00:21<00:00, 14.51it/s]\n"
          ]
        },
        {
          "metadata": {
            "tags": null
          },
          "name": "stdout",
          "output_type": "stream",
          "text": [
            "------------- [Epoch42 Finished!] -------------\n"
          ]
        },
        {
          "metadata": {
            "tags": null
          },
          "name": "stderr",
          "output_type": "stream",
          "text": [
            "Epoch43: total_loss=61198.237: 100%|██████████| 313/313 [00:21<00:00, 14.30it/s]\n"
          ]
        },
        {
          "metadata": {
            "tags": null
          },
          "name": "stdout",
          "output_type": "stream",
          "text": [
            "------------- [Epoch43 Finished!] -------------\n"
          ]
        },
        {
          "metadata": {
            "tags": null
          },
          "name": "stderr",
          "output_type": "stream",
          "text": [
            "Epoch44: total_loss=60466.754: 100%|██████████| 313/313 [00:20<00:00, 14.99it/s]\n"
          ]
        },
        {
          "metadata": {
            "tags": null
          },
          "name": "stdout",
          "output_type": "stream",
          "text": [
            "------------- [Epoch44 Finished!] -------------\n"
          ]
        },
        {
          "metadata": {
            "tags": null
          },
          "name": "stderr",
          "output_type": "stream",
          "text": [
            "Epoch45: total_loss=59984.676: 100%|██████████| 313/313 [00:20<00:00, 15.35it/s]\n"
          ]
        },
        {
          "metadata": {
            "tags": null
          },
          "name": "stdout",
          "output_type": "stream",
          "text": [
            "------------- [Epoch45 Finished!] -------------\n"
          ]
        },
        {
          "metadata": {
            "tags": null
          },
          "name": "stderr",
          "output_type": "stream",
          "text": [
            "Epoch46: total_loss=59722.211: 100%|██████████| 313/313 [00:20<00:00, 15.07it/s]\n"
          ]
        },
        {
          "metadata": {
            "tags": null
          },
          "name": "stdout",
          "output_type": "stream",
          "text": [
            "------------- [Epoch46 Finished!] -------------\n"
          ]
        },
        {
          "metadata": {
            "tags": null
          },
          "name": "stderr",
          "output_type": "stream",
          "text": [
            "Epoch47: total_loss=58909.287: 100%|██████████| 313/313 [00:22<00:00, 13.83it/s]\n"
          ]
        },
        {
          "metadata": {
            "tags": null
          },
          "name": "stdout",
          "output_type": "stream",
          "text": [
            "------------- [Epoch47 Finished!] -------------\n"
          ]
        },
        {
          "metadata": {
            "tags": null
          },
          "name": "stderr",
          "output_type": "stream",
          "text": [
            "Epoch48: total_loss=58415.999: 100%|██████████| 313/313 [00:22<00:00, 14.09it/s]\n"
          ]
        },
        {
          "metadata": {
            "tags": null
          },
          "name": "stdout",
          "output_type": "stream",
          "text": [
            "------------- [Epoch48 Finished!] -------------\n"
          ]
        },
        {
          "metadata": {
            "tags": null
          },
          "name": "stderr",
          "output_type": "stream",
          "text": [
            "Epoch49: total_loss=58248.514: 100%|██████████| 313/313 [00:20<00:00, 15.51it/s]\n"
          ]
        },
        {
          "metadata": {
            "tags": null
          },
          "name": "stdout",
          "output_type": "stream",
          "text": [
            "------------- [Epoch49 Finished!] -------------\n"
          ]
        },
        {
          "metadata": {
            "tags": null
          },
          "name": "stderr",
          "output_type": "stream",
          "text": [
            "Epoch50: total_loss=57781.082: 100%|██████████| 313/313 [00:20<00:00, 15.40it/s]\n"
          ]
        },
        {
          "metadata": {
            "tags": null
          },
          "name": "stdout",
          "output_type": "stream",
          "text": [
            "------------- [Epoch50 Finished!] -------------\n"
          ]
        },
        {
          "metadata": {
            "tags": null
          },
          "name": "stderr",
          "output_type": "stream",
          "text": [
            "Epoch51: total_loss=57098.488: 100%|██████████| 313/313 [00:20<00:00, 15.33it/s]\n"
          ]
        },
        {
          "metadata": {
            "tags": null
          },
          "name": "stdout",
          "output_type": "stream",
          "text": [
            "------------- [Epoch51 Finished!] -------------\n"
          ]
        },
        {
          "metadata": {
            "tags": null
          },
          "name": "stderr",
          "output_type": "stream",
          "text": [
            "Epoch52: total_loss=57036.331: 100%|██████████| 313/313 [00:21<00:00, 14.75it/s]\n"
          ]
        },
        {
          "metadata": {
            "tags": null
          },
          "name": "stdout",
          "output_type": "stream",
          "text": [
            "------------- [Epoch52 Finished!] -------------\n"
          ]
        },
        {
          "metadata": {
            "tags": null
          },
          "name": "stderr",
          "output_type": "stream",
          "text": [
            "Epoch53: total_loss=56686.969: 100%|██████████| 313/313 [00:21<00:00, 14.80it/s]\n"
          ]
        },
        {
          "metadata": {
            "tags": null
          },
          "name": "stdout",
          "output_type": "stream",
          "text": [
            "------------- [Epoch53 Finished!] -------------\n"
          ]
        },
        {
          "metadata": {
            "tags": null
          },
          "name": "stderr",
          "output_type": "stream",
          "text": [
            "Epoch54: total_loss=56351.939: 100%|██████████| 313/313 [00:20<00:00, 15.07it/s]\n"
          ]
        },
        {
          "metadata": {
            "tags": null
          },
          "name": "stdout",
          "output_type": "stream",
          "text": [
            "------------- [Epoch54 Finished!] -------------\n"
          ]
        },
        {
          "metadata": {
            "tags": null
          },
          "name": "stderr",
          "output_type": "stream",
          "text": [
            "Epoch55: total_loss=55808.209: 100%|██████████| 313/313 [00:20<00:00, 15.23it/s]\n"
          ]
        },
        {
          "metadata": {
            "tags": null
          },
          "name": "stdout",
          "output_type": "stream",
          "text": [
            "------------- [Epoch55 Finished!] -------------\n"
          ]
        },
        {
          "metadata": {
            "tags": null
          },
          "name": "stderr",
          "output_type": "stream",
          "text": [
            "Epoch56: total_loss=55409.048: 100%|██████████| 313/313 [00:20<00:00, 14.91it/s]\n"
          ]
        },
        {
          "metadata": {
            "tags": null
          },
          "name": "stdout",
          "output_type": "stream",
          "text": [
            "------------- [Epoch56 Finished!] -------------\n"
          ]
        },
        {
          "metadata": {
            "tags": null
          },
          "name": "stderr",
          "output_type": "stream",
          "text": [
            "Epoch57: total_loss=54966.663: 100%|██████████| 313/313 [00:20<00:00, 14.92it/s]\n"
          ]
        },
        {
          "metadata": {
            "tags": null
          },
          "name": "stdout",
          "output_type": "stream",
          "text": [
            "------------- [Epoch57 Finished!] -------------\n"
          ]
        },
        {
          "metadata": {
            "tags": null
          },
          "name": "stderr",
          "output_type": "stream",
          "text": [
            "Epoch58: total_loss=54513.756: 100%|██████████| 313/313 [00:20<00:00, 15.60it/s]\n"
          ]
        },
        {
          "metadata": {
            "tags": null
          },
          "name": "stdout",
          "output_type": "stream",
          "text": [
            "------------- [Epoch58 Finished!] -------------\n"
          ]
        },
        {
          "metadata": {
            "tags": null
          },
          "name": "stderr",
          "output_type": "stream",
          "text": [
            "Epoch59: total_loss=54191.815: 100%|██████████| 313/313 [00:21<00:00, 14.48it/s]\n"
          ]
        },
        {
          "metadata": {
            "tags": null
          },
          "name": "stdout",
          "output_type": "stream",
          "text": [
            "------------- [Epoch59 Finished!] -------------\n"
          ]
        },
        {
          "metadata": {
            "tags": null
          },
          "name": "stderr",
          "output_type": "stream",
          "text": [
            "Epoch60: total_loss=53930.042: 100%|██████████| 313/313 [00:20<00:00, 15.04it/s]\n"
          ]
        },
        {
          "metadata": {
            "tags": null
          },
          "name": "stdout",
          "output_type": "stream",
          "text": [
            "------------- [Epoch60 Finished!] -------------\n"
          ]
        },
        {
          "metadata": {
            "tags": null
          },
          "name": "stderr",
          "output_type": "stream",
          "text": [
            "Epoch61: total_loss=53606.202: 100%|██████████| 313/313 [00:20<00:00, 15.61it/s]\n"
          ]
        },
        {
          "metadata": {
            "tags": null
          },
          "name": "stdout",
          "output_type": "stream",
          "text": [
            "------------- [Epoch61 Finished!] -------------\n"
          ]
        },
        {
          "metadata": {
            "tags": null
          },
          "name": "stderr",
          "output_type": "stream",
          "text": [
            "Epoch62: total_loss=53321.808: 100%|██████████| 313/313 [00:19<00:00, 15.66it/s]\n"
          ]
        },
        {
          "metadata": {
            "tags": null
          },
          "name": "stdout",
          "output_type": "stream",
          "text": [
            "------------- [Epoch62 Finished!] -------------\n"
          ]
        },
        {
          "metadata": {
            "tags": null
          },
          "name": "stderr",
          "output_type": "stream",
          "text": [
            "Epoch63: total_loss=53026.332: 100%|██████████| 313/313 [00:20<00:00, 15.65it/s]\n"
          ]
        },
        {
          "metadata": {
            "tags": null
          },
          "name": "stdout",
          "output_type": "stream",
          "text": [
            "------------- [Epoch63 Finished!] -------------\n"
          ]
        },
        {
          "metadata": {
            "tags": null
          },
          "name": "stderr",
          "output_type": "stream",
          "text": [
            "Epoch64: total_loss=52673.840: 100%|██████████| 313/313 [00:20<00:00, 15.18it/s]\n"
          ]
        },
        {
          "metadata": {
            "tags": null
          },
          "name": "stdout",
          "output_type": "stream",
          "text": [
            "------------- [Epoch64 Finished!] -------------\n"
          ]
        },
        {
          "output_type": "stream",
          "name": "stderr",
          "text": [
            "Epoch65: total_loss=52512.691: 100%|██████████| 313/313 [00:21<00:00, 14.56it/s]\n"
          ]
        },
        {
          "output_type": "stream",
          "name": "stdout",
          "text": [
            "------------- [Epoch65 Finished!] -------------\n"
          ]
        },
        {
          "output_type": "stream",
          "name": "stderr",
          "text": [
            "Epoch66: total_loss=52116.929: 100%|██████████| 313/313 [00:20<00:00, 15.16it/s]\n"
          ]
        },
        {
          "output_type": "stream",
          "name": "stdout",
          "text": [
            "------------- [Epoch66 Finished!] -------------\n"
          ]
        },
        {
          "output_type": "stream",
          "name": "stderr",
          "text": [
            "Epoch67: total_loss=52038.958: 100%|██████████| 313/313 [00:21<00:00, 14.81it/s]\n"
          ]
        },
        {
          "output_type": "stream",
          "name": "stdout",
          "text": [
            "------------- [Epoch67 Finished!] -------------\n"
          ]
        },
        {
          "output_type": "stream",
          "name": "stderr",
          "text": [
            "Epoch68: total_loss=51543.041: 100%|██████████| 313/313 [00:21<00:00, 14.41it/s]\n"
          ]
        },
        {
          "output_type": "stream",
          "name": "stdout",
          "text": [
            "------------- [Epoch68 Finished!] -------------\n"
          ]
        },
        {
          "output_type": "stream",
          "name": "stderr",
          "text": [
            "Epoch69: total_loss=51728.573: 100%|██████████| 313/313 [00:21<00:00, 14.46it/s]\n"
          ]
        },
        {
          "output_type": "stream",
          "name": "stdout",
          "text": [
            "------------- [Epoch69 Finished!] -------------\n"
          ]
        },
        {
          "output_type": "stream",
          "name": "stderr",
          "text": [
            "Epoch70: total_loss=51156.484: 100%|██████████| 313/313 [00:21<00:00, 14.32it/s]\n"
          ]
        },
        {
          "output_type": "stream",
          "name": "stdout",
          "text": [
            "------------- [Epoch70 Finished!] -------------\n"
          ]
        },
        {
          "output_type": "stream",
          "name": "stderr",
          "text": [
            "Epoch71: total_loss=50972.507: 100%|██████████| 313/313 [00:21<00:00, 14.44it/s]\n"
          ]
        },
        {
          "output_type": "stream",
          "name": "stdout",
          "text": [
            "------------- [Epoch71 Finished!] -------------\n"
          ]
        },
        {
          "output_type": "stream",
          "name": "stderr",
          "text": [
            "Epoch72: total_loss=50533.553: 100%|██████████| 313/313 [00:21<00:00, 14.51it/s]\n"
          ]
        },
        {
          "output_type": "stream",
          "name": "stdout",
          "text": [
            "------------- [Epoch72 Finished!] -------------\n"
          ]
        },
        {
          "output_type": "stream",
          "name": "stderr",
          "text": [
            "Epoch73: total_loss=50453.473: 100%|██████████| 313/313 [00:21<00:00, 14.42it/s]\n"
          ]
        },
        {
          "output_type": "stream",
          "name": "stdout",
          "text": [
            "------------- [Epoch73 Finished!] -------------\n"
          ]
        },
        {
          "output_type": "stream",
          "name": "stderr",
          "text": [
            "Epoch74: total_loss=50280.790: 100%|██████████| 313/313 [00:21<00:00, 14.41it/s]\n"
          ]
        },
        {
          "output_type": "stream",
          "name": "stdout",
          "text": [
            "------------- [Epoch74 Finished!] -------------\n"
          ]
        },
        {
          "output_type": "stream",
          "name": "stderr",
          "text": [
            "Epoch75: total_loss=50109.316: 100%|██████████| 313/313 [00:21<00:00, 14.54it/s]\n"
          ]
        },
        {
          "output_type": "stream",
          "name": "stdout",
          "text": [
            "------------- [Epoch75 Finished!] -------------\n"
          ]
        },
        {
          "output_type": "stream",
          "name": "stderr",
          "text": [
            "Epoch76: total_loss=49539.389: 100%|██████████| 313/313 [00:21<00:00, 14.47it/s]\n"
          ]
        },
        {
          "output_type": "stream",
          "name": "stdout",
          "text": [
            "------------- [Epoch76 Finished!] -------------\n"
          ]
        },
        {
          "output_type": "stream",
          "name": "stderr",
          "text": [
            "Epoch77: total_loss=49702.668: 100%|██████████| 313/313 [00:21<00:00, 14.29it/s]\n"
          ]
        },
        {
          "output_type": "stream",
          "name": "stdout",
          "text": [
            "------------- [Epoch77 Finished!] -------------\n"
          ]
        },
        {
          "output_type": "stream",
          "name": "stderr",
          "text": [
            "Epoch78: total_loss=49463.906: 100%|██████████| 313/313 [00:21<00:00, 14.49it/s]\n"
          ]
        },
        {
          "output_type": "stream",
          "name": "stdout",
          "text": [
            "------------- [Epoch78 Finished!] -------------\n"
          ]
        },
        {
          "output_type": "stream",
          "name": "stderr",
          "text": [
            "Epoch79: total_loss=49162.915: 100%|██████████| 313/313 [00:22<00:00, 14.16it/s]\n"
          ]
        },
        {
          "output_type": "stream",
          "name": "stdout",
          "text": [
            "------------- [Epoch79 Finished!] -------------\n"
          ]
        },
        {
          "output_type": "stream",
          "name": "stderr",
          "text": [
            "Epoch80: total_loss=48968.265: 100%|██████████| 313/313 [00:21<00:00, 14.47it/s]\n"
          ]
        },
        {
          "output_type": "stream",
          "name": "stdout",
          "text": [
            "------------- [Epoch80 Finished!] -------------\n"
          ]
        },
        {
          "output_type": "stream",
          "name": "stderr",
          "text": [
            "Epoch81: total_loss=48795.146: 100%|██████████| 313/313 [00:20<00:00, 14.99it/s]\n"
          ]
        },
        {
          "output_type": "stream",
          "name": "stdout",
          "text": [
            "------------- [Epoch81 Finished!] -------------\n"
          ]
        },
        {
          "output_type": "stream",
          "name": "stderr",
          "text": [
            "Epoch82: total_loss=48561.102: 100%|██████████| 313/313 [00:21<00:00, 14.77it/s]\n"
          ]
        },
        {
          "output_type": "stream",
          "name": "stdout",
          "text": [
            "------------- [Epoch82 Finished!] -------------\n"
          ]
        },
        {
          "output_type": "stream",
          "name": "stderr",
          "text": [
            "Epoch83: total_loss=48752.784: 100%|██████████| 313/313 [00:21<00:00, 14.72it/s]\n"
          ]
        },
        {
          "output_type": "stream",
          "name": "stdout",
          "text": [
            "------------- [Epoch83 Finished!] -------------\n"
          ]
        },
        {
          "output_type": "stream",
          "name": "stderr",
          "text": [
            "Epoch84: total_loss=48227.998: 100%|██████████| 313/313 [00:21<00:00, 14.64it/s]\n"
          ]
        },
        {
          "output_type": "stream",
          "name": "stdout",
          "text": [
            "------------- [Epoch84 Finished!] -------------\n"
          ]
        },
        {
          "output_type": "stream",
          "name": "stderr",
          "text": [
            "Epoch85: total_loss=47984.400: 100%|██████████| 313/313 [00:21<00:00, 14.69it/s]\n"
          ]
        },
        {
          "output_type": "stream",
          "name": "stdout",
          "text": [
            "------------- [Epoch85 Finished!] -------------\n"
          ]
        },
        {
          "output_type": "stream",
          "name": "stderr",
          "text": [
            "Epoch86: total_loss=48260.232: 100%|██████████| 313/313 [00:21<00:00, 14.53it/s]\n"
          ]
        },
        {
          "output_type": "stream",
          "name": "stdout",
          "text": [
            "------------- [Epoch86 Finished!] -------------\n"
          ]
        },
        {
          "output_type": "stream",
          "name": "stderr",
          "text": [
            "Epoch87: total_loss=47997.011: 100%|██████████| 313/313 [00:21<00:00, 14.56it/s]\n"
          ]
        },
        {
          "output_type": "stream",
          "name": "stdout",
          "text": [
            "------------- [Epoch87 Finished!] -------------\n"
          ]
        },
        {
          "output_type": "stream",
          "name": "stderr",
          "text": [
            "Epoch88: total_loss=47732.062: 100%|██████████| 313/313 [00:21<00:00, 14.63it/s]\n"
          ]
        },
        {
          "output_type": "stream",
          "name": "stdout",
          "text": [
            "------------- [Epoch88 Finished!] -------------\n"
          ]
        },
        {
          "output_type": "stream",
          "name": "stderr",
          "text": [
            "Epoch89: total_loss=47484.235: 100%|██████████| 313/313 [00:21<00:00, 14.80it/s]\n"
          ]
        },
        {
          "output_type": "stream",
          "name": "stdout",
          "text": [
            "------------- [Epoch89 Finished!] -------------\n"
          ]
        },
        {
          "output_type": "stream",
          "name": "stderr",
          "text": [
            "Epoch90: total_loss=47489.262: 100%|██████████| 313/313 [00:21<00:00, 14.56it/s]\n"
          ]
        },
        {
          "output_type": "stream",
          "name": "stdout",
          "text": [
            "------------- [Epoch90 Finished!] -------------\n"
          ]
        },
        {
          "output_type": "stream",
          "name": "stderr",
          "text": [
            "Epoch91: total_loss=47227.638: 100%|██████████| 313/313 [00:20<00:00, 15.38it/s]\n"
          ]
        },
        {
          "output_type": "stream",
          "name": "stdout",
          "text": [
            "------------- [Epoch91 Finished!] -------------\n"
          ]
        },
        {
          "output_type": "stream",
          "name": "stderr",
          "text": [
            "Epoch92: total_loss=46985.349: 100%|██████████| 313/313 [00:20<00:00, 15.11it/s]\n"
          ]
        },
        {
          "output_type": "stream",
          "name": "stdout",
          "text": [
            "------------- [Epoch92 Finished!] -------------\n"
          ]
        },
        {
          "output_type": "stream",
          "name": "stderr",
          "text": [
            "Epoch93: total_loss=47015.703: 100%|██████████| 313/313 [00:20<00:00, 15.14it/s]\n"
          ]
        },
        {
          "output_type": "stream",
          "name": "stdout",
          "text": [
            "------------- [Epoch93 Finished!] -------------\n"
          ]
        },
        {
          "output_type": "stream",
          "name": "stderr",
          "text": [
            "Epoch94: total_loss=46741.142: 100%|██████████| 313/313 [00:20<00:00, 15.54it/s]\n"
          ]
        },
        {
          "output_type": "stream",
          "name": "stdout",
          "text": [
            "------------- [Epoch94 Finished!] -------------\n"
          ]
        },
        {
          "output_type": "stream",
          "name": "stderr",
          "text": [
            "Epoch95: total_loss=46703.339: 100%|██████████| 313/313 [00:20<00:00, 15.23it/s]\n"
          ]
        },
        {
          "output_type": "stream",
          "name": "stdout",
          "text": [
            "------------- [Epoch95 Finished!] -------------\n"
          ]
        },
        {
          "output_type": "stream",
          "name": "stderr",
          "text": [
            "Epoch96: total_loss=46264.129: 100%|██████████| 313/313 [00:20<00:00, 15.02it/s]\n"
          ]
        },
        {
          "output_type": "stream",
          "name": "stdout",
          "text": [
            "------------- [Epoch96 Finished!] -------------\n"
          ]
        },
        {
          "output_type": "stream",
          "name": "stderr",
          "text": [
            "Epoch97: total_loss=46312.716: 100%|██████████| 313/313 [00:20<00:00, 15.25it/s]\n"
          ]
        },
        {
          "output_type": "stream",
          "name": "stdout",
          "text": [
            "------------- [Epoch97 Finished!] -------------\n"
          ]
        },
        {
          "output_type": "stream",
          "name": "stderr",
          "text": [
            "Epoch98: total_loss=46410.511: 100%|██████████| 313/313 [00:21<00:00, 14.88it/s]\n"
          ]
        },
        {
          "output_type": "stream",
          "name": "stdout",
          "text": [
            "------------- [Epoch98 Finished!] -------------\n"
          ]
        },
        {
          "output_type": "stream",
          "name": "stderr",
          "text": [
            "Epoch99: total_loss=46081.029: 100%|██████████| 313/313 [00:21<00:00, 14.87it/s]\n"
          ]
        },
        {
          "output_type": "stream",
          "name": "stdout",
          "text": [
            "------------- [Epoch99 Finished!] -------------\n"
          ]
        },
        {
          "output_type": "display_data",
          "data": {
            "text/plain": [
              "<Figure size 640x480 with 1 Axes>"
            ],
            "image/png": "[encoded data removed]"
          },
          "metadata": {}
        }
      ],
      "source": [
        "distillation(teacher=teacher, \n",
        "             student=student, \n",
        "             loader=trainloader, \n",
        "             num_epoch=100, \n",
        "             optimizer=student_optim, \n",
        "             criterion=std_criterion, \n",
        "             T=T, \n",
        "             device=device)"
      ]
    },
    {
      "cell_type": "markdown",
      "metadata": {
        "id": "RTgQ3eXTMbV9"
      },
      "source": [
        "### Computing Clean Accuracy"
      ]
    },
    {
      "cell_type": "code",
      "execution_count": null,
      "metadata": {
        "id": "IGwrJ0PFanu2"
      },
      "outputs": [],
      "source": [
        "def standard_test(model, loader, T=1, device=device):\n",
        "    correct = 0\n",
        "    total = 0\n",
        "    ###################### Problem 4 (3 points) ##################################\n",
        "    # todo: Iterate over loader, compute the output and predicted                #\n",
        "    # label, and update \"correct\" and \"total\" counters accordingly.              # \n",
        "    ##############################################################################\n",
        "    with torch.no_grad():\n",
        "        for imgs, labels in loader:\n",
        "            imgs = imgs.to(device)\n",
        "            labels = labels.to(device)\n",
        "\n",
        "            _, probs = model(imgs, T)\n",
        "            preds = torch.argmax(probs, dim=1)\n",
        "\n",
        "            total += len(imgs)\n",
        "            correct += (preds == labels).sum().item()\n",
        "    ################################ End #########################################\n",
        "    print(f'Clean accuracy of the network on the 10000 test images: {100 * correct // total} %')"
      ]
    },
    {
      "cell_type": "code",
      "source": [
        "standard_test(teacher, testloader)"
      ],
      "metadata": {
        "colab": {
          "base_uri": "https://localhost:8080/"
        },
        "id": "Q_8-pMWzsB97",
        "outputId": "6c126c90-5daa-4b17-f019-d74696eefef6"
      },
      "execution_count": null,
      "outputs": [
        {
          "output_type": "stream",
          "name": "stdout",
          "text": [
            "Clean accuracy of the network on the 10000 test images: 71 %\n"
          ]
        }
      ]
    },
    {
      "cell_type": "code",
      "execution_count": null,
      "metadata": {
        "id": "hIX-0T3LTcqx",
        "colab": {
          "base_uri": "https://localhost:8080/"
        },
        "outputId": "ea745a96-0b8a-40f0-c16c-6f4211ca57e4"
      },
      "outputs": [
        {
          "output_type": "stream",
          "name": "stdout",
          "text": [
            "Clean accuracy of the network on the 10000 test images: 62 %\n"
          ]
        }
      ],
      "source": [
        "standard_test(student, testloader)"
      ]
    },
    {
      "cell_type": "markdown",
      "metadata": {
        "id": "oZzMOgrtMhR6"
      },
      "source": [
        "## Attacks"
      ]
    },
    {
      "cell_type": "code",
      "execution_count": null,
      "metadata": {
        "id": "9-bZdK06nl-7"
      },
      "outputs": [],
      "source": [
        "def fgsm_attack (model, X, y, epsilon, T=1, mode=\"output\"):\n",
        "    delta = torch.zeros_like(X, requires_grad=True).to(device)\n",
        "    ###################### Problem 5 (9 points) ######################\n",
        "    # todo: Perform forward path on model with the image             #\n",
        "    # todo: Compute loss:                                            #\n",
        "    #       - In output mode, set cross entropy as the loss function #\n",
        "    #       - In logit mode, set the logit value of the target label #\n",
        "    #         as the loss function                                   #\n",
        "    # todo: Perform backward path on loss function                   #\n",
        "    # todo: Calculate the gradient w.r.t. the data                   #\n",
        "    # todo: Determine delta based on the gradient and epsilon        #\n",
        "    # Also, if the perturbed image exceeds the valid range, clamp    #\n",
        "    # the delta in order to obtain an image in the valid range       #  \n",
        "    ##################################################################\n",
        "    X = X.detach().clone().to(device)\n",
        "    X.requires_grad_()\n",
        "    y = y.to(device)\n",
        "\n",
        "    logits, probs = model(X, T)\n",
        "    loss = None\n",
        "    if mode == 'output':\n",
        "        loss = F.cross_entropy(probs, y)\n",
        "    else:\n",
        "        # performing untargeted attack\n",
        "        loss = - logits[range(len(y)), y].sum()\n",
        "    loss.backward()\n",
        "\n",
        "    delta = torch.clamp(X.grad, min=-epsilon, max=epsilon)\n",
        "    new_X = torch.clamp(X + delta, min=0, max=1)\n",
        "    ########################### End ##################################\n",
        "    # return delta + X\n",
        "    return new_X"
      ]
    },
    {
      "cell_type": "code",
      "execution_count": null,
      "metadata": {
        "id": "bW_IPpmWNc8d"
      },
      "outputs": [],
      "source": [
        "def attack_test(model, attack_model, loader, mode=\"output\", epsilon=4/255, T=1, \n",
        "                device=device):\n",
        "    correct = 0\n",
        "    total = 0\n",
        "    ###################### Problem 6 (4.5 points) ################################\n",
        "    # todo: Iterate over loader                                                  #\n",
        "    # todo: Find an adversarial example by FGSM attack on attack_model           #\n",
        "    # todo: Compute the output and predicted label, and updated \"correct\" and    #\n",
        "    # \"total\" counters accordingly.                                              # \n",
        "    ##############################################################################\n",
        "    for imgs, labels in loader:\n",
        "        imgs = imgs.to(device)\n",
        "        labels = labels.to(device)\n",
        "\n",
        "        attack_imgs = fgsm_attack(attack_model, imgs, labels, epsilon, T, mode)\n",
        "        \n",
        "        _, probs = model(attack_imgs, T)\n",
        "        preds = torch.argmax(probs, dim=1)\n",
        "\n",
        "        total += len(imgs)\n",
        "        correct += (preds == labels).sum().item()\n",
        "    ################################ End #########################################\n",
        "    print(f'Accuracy of the network on the 10000 test images after attacking {mode} layer: {100 * correct // total} %')"
      ]
    },
    {
      "cell_type": "code",
      "execution_count": null,
      "metadata": {
        "id": "GDU26f3APt_w",
        "colab": {
          "base_uri": "https://localhost:8080/"
        },
        "outputId": "decde64c-3f60-48b2-b4e6-138b4a48c794"
      },
      "outputs": [
        {
          "output_type": "stream",
          "name": "stdout",
          "text": [
            "Accuracy of the network on the 10000 test images after attacking output layer: 32 %\n",
            "Accuracy of the network on the 10000 test images after attacking logit layer: 22 %\n"
          ]
        }
      ],
      "source": [
        "###################### Problem 7 (1.5 points) ##################################\n",
        "# todo: Report the accuracy of the student model under attack output and logit #\n",
        "#       layers                                                                 #\n",
        "# todo: Do not forget to set the temperature of the student model to 1         #\n",
        "################################################################################\n",
        "attack_test(student, student, testloader, mode=\"output\")\n",
        "attack_test(student, student, testloader, mode=\"logit\")\n",
        "################################ End ###########################################"
      ]
    }
  ],
  "metadata": {
    "accelerator": "GPU",
    "colab": {
      "provenance": []
    },
    "gpuClass": "standard",
    "kernelspec": {
      "display_name": "Python 3",
      "language": "python",
      "name": "python3"
    },
    "language_info": {
      "codemirror_mode": {
        "name": "ipython",
        "version": 3
      },
      "file_extension": ".py",
      "mimetype": "text/x-python",
      "name": "python",
      "nbconvert_exporter": "python",
      "pygments_lexer": "ipython3",
      "version": "3.8.5"
    }
  },
  "nbformat": 4,
  "nbformat_minor": 0
}