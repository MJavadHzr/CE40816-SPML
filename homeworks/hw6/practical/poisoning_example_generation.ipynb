{
  "cells": [
    {
      "cell_type": "markdown",
      "source": [
        "**Name: Javad Hezareh**\n",
        "<br>\n",
        "**Std-ID: 98101074**"
      ],
      "metadata": {
        "id": "UrEOrWzzSUOo"
      }
    },
    {
      "cell_type": "code",
      "execution_count": 1,
      "metadata": {
        "id": "RJuHE19ee_jj"
      },
      "outputs": [],
      "source": [
        "import torch\n",
        "import torch.nn as nn\n",
        "import torch.nn.functional as F\n",
        "import torch.optim as optim\n",
        "import torchvision\n",
        "import torchvision.transforms as transforms\n",
        "from torchvision.models import resnet18, ResNet18_Weights\n",
        "import matplotlib.pyplot as plt\n",
        "import numpy as np\n",
        "from PIL import Image\n",
        "from tqdm import tqdm"
      ]
    },
    {
      "cell_type": "code",
      "execution_count": 2,
      "metadata": {
        "id": "9cPZTXMnh1Vo",
        "colab": {
          "base_uri": "https://localhost:8080/"
        },
        "outputId": "8a401c04-0550-4856-9786-1d0bb70b8332"
      },
      "outputs": [
        {
          "output_type": "execute_result",
          "data": {
            "text/plain": [
              "device(type='cuda', index=0)"
            ]
          },
          "metadata": {},
          "execution_count": 2
        }
      ],
      "source": [
        "device = torch.device('cuda:0' if torch.cuda.is_available() else 'cpu')\n",
        "device"
      ]
    },
    {
      "cell_type": "code",
      "execution_count": 3,
      "metadata": {
        "id": "kv8fjDpOyG6q",
        "colab": {
          "base_uri": "https://localhost:8080/"
        },
        "outputId": "60ee0ce9-78de-4196-be40-ab9619e00735"
      },
      "outputs": [
        {
          "output_type": "stream",
          "name": "stdout",
          "text": [
            "Downloading https://www.cs.toronto.edu/~kriz/cifar-10-python.tar.gz to ./data/cifar-10-python.tar.gz\n"
          ]
        },
        {
          "output_type": "stream",
          "name": "stderr",
          "text": [
            "100%|██████████| 170498071/170498071 [00:01<00:00, 105494640.77it/s]\n"
          ]
        },
        {
          "output_type": "stream",
          "name": "stdout",
          "text": [
            "Extracting ./data/cifar-10-python.tar.gz to ./data\n",
            "Files already downloaded and verified\n"
          ]
        }
      ],
      "source": [
        "transform = transforms.Compose(\n",
        "    [transforms.ToTensor(),\n",
        "     transforms.Normalize((0.5, 0.5, 0.5), (0.5, 0.5, 0.5))]\n",
        ")\n",
        "\n",
        "batch_size = 1024\n",
        "\n",
        "trainset = torchvision.datasets.CIFAR10(root='./data', train=True,\n",
        "                                        download=True, transform=transform)\n",
        "trainloader = torch.utils.data.DataLoader(trainset, batch_size=batch_size,\n",
        "                                          shuffle=True, num_workers=2)\n",
        "\n",
        "testset = torchvision.datasets.CIFAR10(root='./data', train=False,\n",
        "                                       download=True, transform=transform)\n",
        "testloader = torch.utils.data.DataLoader(testset, batch_size=batch_size,\n",
        "                                         shuffle=False, num_workers=2)\n",
        "\n",
        "classes = ('plane', 'car', 'bird', 'cat',\n",
        "           'deer', 'dog', 'frog', 'horse', 'ship', 'truck')"
      ]
    },
    {
      "cell_type": "code",
      "execution_count": 26,
      "metadata": {
        "id": "7mP3FZpqSLba"
      },
      "outputs": [],
      "source": [
        "class Net(nn.Module):\n",
        "    def __init__(self):\n",
        "        super(Net, self).__init__()\n",
        "        self.feature_extractor = nn.Sequential(\n",
        "            *list(resnet18(pretrained=True).children())[:-2])\n",
        "        self.fc = nn.Linear(512, 10)\n",
        "\n",
        "    def get_features(self, x):\n",
        "      return self.feature_extractor(x)\n",
        "\n",
        "    def forward(self, x):\n",
        "        feature = self.get_features(x)\n",
        "        return F.softmax(self.fc(torch.flatten(feature, start_dim=1)), dim=1)"
      ]
    },
    {
      "cell_type": "code",
      "execution_count": 92,
      "metadata": {
        "id": "ArhuwLbOTkdS",
        "colab": {
          "base_uri": "https://localhost:8080/"
        },
        "outputId": "e275f10d-9ef0-4257-ea1b-94db88136cfb"
      },
      "outputs": [
        {
          "output_type": "stream",
          "name": "stderr",
          "text": [
            "/usr/local/lib/python3.10/dist-packages/torchvision/models/_utils.py:208: UserWarning: The parameter 'pretrained' is deprecated since 0.13 and may be removed in the future, please use 'weights' instead.\n",
            "  warnings.warn(\n",
            "/usr/local/lib/python3.10/dist-packages/torchvision/models/_utils.py:223: UserWarning: Arguments other than a weight enum or `None` for 'weights' are deprecated since 0.13 and may be removed in the future. The current behavior is equivalent to passing `weights=ResNet18_Weights.IMAGENET1K_V1`. You can also use `weights=ResNet18_Weights.DEFAULT` to get the most up-to-date weights.\n",
            "  warnings.warn(msg)\n"
          ]
        }
      ],
      "source": [
        "model = Net().to(device)"
      ]
    },
    {
      "cell_type": "code",
      "execution_count": 93,
      "metadata": {
        "id": "9pnPaN6ukfEm"
      },
      "outputs": [],
      "source": [
        "import torch.optim as optim\n",
        "\n",
        "criterion = nn.CrossEntropyLoss()\n",
        "optimizer = optim.Adam(model.parameters())\n",
        "num_epochs = 10"
      ]
    },
    {
      "cell_type": "code",
      "execution_count": 94,
      "metadata": {
        "id": "4nU8BAnHkrpp",
        "colab": {
          "base_uri": "https://localhost:8080/"
        },
        "outputId": "df7a7102-7ffe-4be5-cba9-08aa80be2efb"
      },
      "outputs": [
        {
          "output_type": "stream",
          "name": "stderr",
          "text": [
            "100%|██████████| 49/49 [00:15<00:00,  3.20it/s]"
          ]
        },
        {
          "output_type": "stream",
          "name": "stdout",
          "text": [
            "\n",
            "Epoch: 0\ttotal_loss: 1.825e+00\taccuracy: 0.64\n",
            "\n"
          ]
        },
        {
          "output_type": "stream",
          "name": "stderr",
          "text": [
            "\n",
            "100%|██████████| 49/49 [00:14<00:00,  3.29it/s]"
          ]
        },
        {
          "output_type": "stream",
          "name": "stdout",
          "text": [
            "\n",
            "Epoch: 1\ttotal_loss: 1.728e+00\taccuracy: 0.73\n",
            "\n"
          ]
        },
        {
          "output_type": "stream",
          "name": "stderr",
          "text": [
            "\n",
            "100%|██████████| 49/49 [00:16<00:00,  3.02it/s]"
          ]
        },
        {
          "output_type": "stream",
          "name": "stdout",
          "text": [
            "\n",
            "Epoch: 2\ttotal_loss: 1.710e+00\taccuracy: 0.75\n",
            "\n"
          ]
        },
        {
          "output_type": "stream",
          "name": "stderr",
          "text": [
            "\n",
            "100%|██████████| 49/49 [00:15<00:00,  3.13it/s]"
          ]
        },
        {
          "output_type": "stream",
          "name": "stdout",
          "text": [
            "\n",
            "Epoch: 3\ttotal_loss: 1.701e+00\taccuracy: 0.76\n",
            "\n"
          ]
        },
        {
          "output_type": "stream",
          "name": "stderr",
          "text": [
            "\n",
            "100%|██████████| 49/49 [00:15<00:00,  3.17it/s]"
          ]
        },
        {
          "output_type": "stream",
          "name": "stdout",
          "text": [
            "\n",
            "Epoch: 4\ttotal_loss: 1.676e+00\taccuracy: 0.78\n",
            "\n"
          ]
        },
        {
          "output_type": "stream",
          "name": "stderr",
          "text": [
            "\n",
            "100%|██████████| 49/49 [00:14<00:00,  3.29it/s]"
          ]
        },
        {
          "output_type": "stream",
          "name": "stdout",
          "text": [
            "\n",
            "Epoch: 5\ttotal_loss: 1.670e+00\taccuracy: 0.79\n",
            "\n"
          ]
        },
        {
          "output_type": "stream",
          "name": "stderr",
          "text": [
            "\n",
            "100%|██████████| 49/49 [00:14<00:00,  3.28it/s]"
          ]
        },
        {
          "output_type": "stream",
          "name": "stdout",
          "text": [
            "\n",
            "Epoch: 6\ttotal_loss: 1.665e+00\taccuracy: 0.80\n",
            "\n"
          ]
        },
        {
          "output_type": "stream",
          "name": "stderr",
          "text": [
            "\n",
            "100%|██████████| 49/49 [00:14<00:00,  3.27it/s]"
          ]
        },
        {
          "output_type": "stream",
          "name": "stdout",
          "text": [
            "\n",
            "Epoch: 7\ttotal_loss: 1.656e+00\taccuracy: 0.80\n",
            "\n"
          ]
        },
        {
          "output_type": "stream",
          "name": "stderr",
          "text": [
            "\n",
            "100%|██████████| 49/49 [00:15<00:00,  3.17it/s]"
          ]
        },
        {
          "output_type": "stream",
          "name": "stdout",
          "text": [
            "\n",
            "Epoch: 8\ttotal_loss: 1.654e+00\taccuracy: 0.81\n",
            "\n"
          ]
        },
        {
          "output_type": "stream",
          "name": "stderr",
          "text": [
            "\n",
            "100%|██████████| 49/49 [00:15<00:00,  3.15it/s]"
          ]
        },
        {
          "output_type": "stream",
          "name": "stdout",
          "text": [
            "\n",
            "Epoch: 9\ttotal_loss: 1.642e+00\taccuracy: 0.82\n",
            "\n"
          ]
        },
        {
          "output_type": "stream",
          "name": "stderr",
          "text": [
            "\n"
          ]
        }
      ],
      "source": [
        "model.train()\n",
        "losses = []\n",
        "accs = []\n",
        "\n",
        "for epoch in range(num_epochs):\n",
        "    #### To Do (4 pts) #####\n",
        "    # Fine-tune model on CIFAR-10 dataset\n",
        "    total_loss = 0\n",
        "    N = 0\n",
        "    acc = 0\n",
        "    with tqdm(enumerate(trainloader), total=len(trainloader)) as pbar:\n",
        "        for i, (imgs, labels) in pbar:\n",
        "            imgs = imgs.to(device)\n",
        "            labels = labels.to(device)\n",
        "\n",
        "            optimizer.zero_grad()\n",
        "            probs = model(imgs)\n",
        "            loss = criterion(probs, labels)\n",
        "            loss.backward()\n",
        "            optimizer.step()\n",
        "\n",
        "            total_loss += loss.item() * len(labels)\n",
        "            N += len(labels)\n",
        "            acc += (torch.argmax(probs, dim=1) == labels).sum()\n",
        "    print(f'\\nEpoch: {epoch}\\ttotal_loss: {total_loss/N:.3e}\\taccuracy: {acc/N:.2f}\\n')\n",
        "    losses.append(total_loss / N)\n",
        "    accs.append(acc / N)\n",
        "    ################"
      ]
    },
    {
      "cell_type": "code",
      "execution_count": 95,
      "metadata": {
        "id": "mFFCEd3Xfh3u"
      },
      "outputs": [],
      "source": [
        "def poisoning_example_generation(t, b, f, lmda=0.1, max_iters=10, beta=1):\n",
        "    \"\"\"\n",
        "    t: target instance\n",
        "    b: base instance\n",
        "    f: feature extractor\n",
        "    lambda: learning rate\n",
        "    \"\"\"\n",
        "    #### To Do (9 pts) #####\n",
        "    # Create poisoned sample by following the algorithm you've learned in the class\n",
        "    x = torch.clone(b)\n",
        "\n",
        "    loss_fn = lambda y: torch.linalg.norm(f(y)-f(t))**2\n",
        "    for i in range(max_iters):\n",
        "        x = x.detach()\n",
        "        x.requires_grad = True\n",
        "        loss = loss_fn(x)\n",
        "        loss.backward()\n",
        "\n",
        "        x_hat = x - lmda * x.grad\n",
        "        x = (x_hat + lmda*beta*b)/(1 + beta*lmda)\n",
        "        x = torch.clamp(x, 0, 1)\n",
        "\n",
        "    sample = x.detach()\n",
        "    ################\n",
        "    return sample"
      ]
    },
    {
      "cell_type": "code",
      "execution_count": 96,
      "metadata": {
        "id": "WFI5dqG3xtBN",
        "colab": {
          "base_uri": "https://localhost:8080/",
          "height": 356
        },
        "outputId": "ecf29206-2fce-4536-e133-d6f0451d2811"
      },
      "outputs": [
        {
          "output_type": "display_data",
          "data": {
            "text/plain": [
              "<Figure size 640x480 with 2 Axes>"
            ],
            "image/png": "[encoded data removed]"
          },
          "metadata": {}
        }
      ],
      "source": [
        "#### To Do (2 pts) #####\n",
        "# Show the frog and ship images\n",
        "# Evaluate model on them (compute predicted label)\n",
        "from torchvision.io import read_image\n",
        "\n",
        "frog = (read_image('frog.jpeg').unsqueeze(0) / 255).to(device)\n",
        "ship = (read_image('ship.jpeg').unsqueeze(0) / 255).to(device)\n",
        "\n",
        "model.eval()\n",
        "imgs = torch.cat([frog, ship], dim=0).to(device)\n",
        "probs = model(imgs)\n",
        "conff, preds = torch.max(probs, dim=1)\n",
        "\n",
        "fig, axis = plt.subplots(1, 2)\n",
        "for i in range(2):\n",
        "    axis[i].imshow(imgs[i].permute([1, 2, 0]).cpu().numpy())\n",
        "    axis[i].set_title(f'{classes[preds[i]]}, conf: {conff[i]:.2f}')\n",
        "    axis[i].axis('off')\n",
        "fig.tight_layout();\n",
        "################"
      ]
    },
    {
      "cell_type": "code",
      "execution_count": 103,
      "metadata": {
        "id": "uV4B_Dc_gdcr",
        "colab": {
          "base_uri": "https://localhost:8080/",
          "height": 481
        },
        "outputId": "244db82f-5253-4402-ea68-a565c3718510"
      },
      "outputs": [
        {
          "output_type": "display_data",
          "data": {
            "text/plain": [
              "<Figure size 640x480 with 6 Axes>"
            ],
            "image/png": "[encoded data removed]"
          },
          "metadata": {}
        }
      ],
      "source": [
        "#### To Do (2 pts) #####\n",
        "# Create poisoned samples\n",
        "# Evaluate model on them (compute predicted label)\n",
        "model.eval()\n",
        "f = lambda y: model.get_features(y)\n",
        "\n",
        "frog_ship = poisoning_example_generation(frog, ship, f, lmda=0.001, max_iters=500)\n",
        "ship_frog = poisoning_example_generation(ship, frog, f, lmda=0.001, max_iters=500)\n",
        "poisoned_samples = torch.cat([frog_ship, ship_frog], dim=0)\n",
        "\n",
        "probs = model(poisoned_samples)\n",
        "conff, preds = torch.max(probs, dim=1)\n",
        "\n",
        "fig, axis = plt.subplots(2, 3)\n",
        "\n",
        "for i in range(2):\n",
        "    axis[i, 0].imshow(imgs[i].permute([1, 2, 0]).cpu().numpy())\n",
        "    axis[i, 1].imshow(imgs[1-i].permute([1, 2, 0]).cpu().numpy())\n",
        "    axis[i, 2].imshow(poisoned_samples[i].permute([1, 2, 0]).cpu().numpy())\n",
        "\n",
        "    axis[i, 0].set_title('target')\n",
        "    axis[i, 1].set_title('base')\n",
        "    axis[i, 2].set_title(f'poisoned, class: {classes[preds[i]]}')\n",
        "fig.tight_layout()\n",
        "################"
      ]
    }
  ],
  "metadata": {
    "accelerator": "GPU",
    "colab": {
      "gpuType": "T4",
      "provenance": []
    },
    "gpuClass": "standard",
    "kernelspec": {
      "display_name": "Python 3",
      "language": "python",
      "name": "python3"
    },
    "language_info": {
      "codemirror_mode": {
        "name": "ipython",
        "version": 3
      },
      "file_extension": ".py",
      "mimetype": "text/x-python",
      "name": "python",
      "nbconvert_exporter": "python",
      "pygments_lexer": "ipython3",
      "version": "3.8.5"
    }
  },
  "nbformat": 4,
  "nbformat_minor": 0
}